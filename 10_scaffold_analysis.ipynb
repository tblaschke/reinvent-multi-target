{
 "cells": [
  {
   "cell_type": "code",
   "execution_count": 1,
   "metadata": {},
   "outputs": [],
   "source": [
    "#%config InlineBackend.figure_formats = ['svg']\n",
    "%config InlineBackend.figure_format = 'retina'\n",
    "import pandas as pd \n",
    "import matplotlib.pyplot as plt\n",
    "import numpy as np\n",
    "import seaborn as sns\n",
    "import os\n",
    "from tqdm.auto import tqdm\n",
    "from pandarallel import pandarallel"
   ]
  },
  {
   "cell_type": "code",
   "execution_count": 2,
   "metadata": {},
   "outputs": [
    {
     "name": "stdout",
     "output_type": "stream",
     "text": [
      "INFO: Pandarallel will run on 8 workers.\n",
      "INFO: Pandarallel will use standard multiprocessing data transfer (pipe) to transfer data between the main process and workers.\n"
     ]
    }
   ],
   "source": [
    "pandarallel.initialize(progress_bar=False, nb_workers=8)"
   ]
  },
  {
   "cell_type": "code",
   "execution_count": 3,
   "metadata": {},
   "outputs": [],
   "source": [
    "from rdkit import Chem \n",
    "from rdkit.Chem import Scaffolds\n",
    "from rdkit.Chem.Scaffolds.MurckoScaffold import GetScaffoldForMol, MakeScaffoldGeneric\n",
    "\n",
    "def generate_scaffolds(smiles :str) -> (str , str):\n",
    "    murcko_smi = \"\"\n",
    "    carbon_smi = \"\"\n",
    "    if smiles:\n",
    "        try:\n",
    "            mol = Chem.MolFromSmiles(smiles)\n",
    "            if mol:\n",
    "                murcko_mol = GetScaffoldForMol(mol)\n",
    "                carbon_mol = MakeScaffoldGeneric(murcko_mol)\n",
    "                murcko_smi = Chem.MolToSmiles(murcko_mol)\n",
    "                carbon_smi = Chem.MolToSmiles(carbon_mol)\n",
    "        except:\n",
    "            pass\n",
    "    return murcko_smi, carbon_smi"
   ]
  },
  {
   "cell_type": "code",
   "execution_count": 4,
   "metadata": {},
   "outputs": [],
   "source": [
    "def read_npz(file):\n",
    "    file = np.load(file)\n",
    "    if \"arr_0\" in file:\n",
    "        fp = file[\"arr_0\"]\n",
    "    else:\n",
    "        fp = file[\"fps\"]\n",
    "    file.close()\n",
    "    fp = np.unpackbits(fp, axis=1)\n",
    "    return fp"
   ]
  },
  {
   "cell_type": "code",
   "execution_count": 5,
   "metadata": {},
   "outputs": [],
   "source": [
    "experiment = \"output\""
   ]
  },
  {
   "cell_type": "code",
   "execution_count": 6,
   "metadata": {},
   "outputs": [],
   "source": [
    "#colors = \"Set1\"\n",
    "colors = sns.color_palette([\"gray\", \"royalblue\", \"limegreen\", \"fuchsia\"])"
   ]
  },
  {
   "cell_type": "code",
   "execution_count": 7,
   "metadata": {},
   "outputs": [],
   "source": [
    "all_data = pd.read_csv(f\"{experiment}/promiscuous_processed.csv\")\n",
    "all_data[\"class_set\"] = all_data[[\"class\",\"set\"]].apply(lambda x: ' '.join(x), axis=1)"
   ]
  },
  {
   "cell_type": "code",
   "execution_count": 8,
   "metadata": {},
   "outputs": [
    {
     "data": {
      "text/html": [
       "<div>\n",
       "<style scoped>\n",
       "    .dataframe tbody tr th:only-of-type {\n",
       "        vertical-align: middle;\n",
       "    }\n",
       "\n",
       "    .dataframe tbody tr th {\n",
       "        vertical-align: top;\n",
       "    }\n",
       "\n",
       "    .dataframe thead th {\n",
       "        text-align: right;\n",
       "    }\n",
       "</style>\n",
       "<table border=\"1\" class=\"dataframe\">\n",
       "  <thead>\n",
       "    <tr style=\"text-align: right;\">\n",
       "      <th></th>\n",
       "      <th>cids</th>\n",
       "      <th>NostereoAromaticSMILES</th>\n",
       "      <th>rdkit_smiles</th>\n",
       "      <th>class</th>\n",
       "      <th>set</th>\n",
       "      <th>inactive</th>\n",
       "      <th>active</th>\n",
       "      <th>encodable</th>\n",
       "      <th>NLL_0</th>\n",
       "      <th>NLL_1</th>\n",
       "      <th>...</th>\n",
       "      <th>NLL_192</th>\n",
       "      <th>NLL_193</th>\n",
       "      <th>NLL_194</th>\n",
       "      <th>NLL_195</th>\n",
       "      <th>NLL_196</th>\n",
       "      <th>NLL_197</th>\n",
       "      <th>NLL_198</th>\n",
       "      <th>NLL_199</th>\n",
       "      <th>NLL_200</th>\n",
       "      <th>class_set</th>\n",
       "    </tr>\n",
       "  </thead>\n",
       "  <tbody>\n",
       "    <tr>\n",
       "      <th>0</th>\n",
       "      <td>1483729</td>\n",
       "      <td>C#CCN1c2ccccc2Sc3c1nccc3</td>\n",
       "      <td>C#CCN1c2ccccc2Sc2cccnc21</td>\n",
       "      <td>multitarget</td>\n",
       "      <td>training</td>\n",
       "      <td>174</td>\n",
       "      <td>6</td>\n",
       "      <td>True</td>\n",
       "      <td>21.387634</td>\n",
       "      <td>21.237390</td>\n",
       "      <td>...</td>\n",
       "      <td>16.529953</td>\n",
       "      <td>16.579832</td>\n",
       "      <td>16.597193</td>\n",
       "      <td>16.598688</td>\n",
       "      <td>16.543293</td>\n",
       "      <td>16.469414</td>\n",
       "      <td>16.514149</td>\n",
       "      <td>16.565979</td>\n",
       "      <td>16.504505</td>\n",
       "      <td>multitarget training</td>\n",
       "    </tr>\n",
       "    <tr>\n",
       "      <th>1</th>\n",
       "      <td>2803060</td>\n",
       "      <td>C#CCSc1c(c(sn1)SCC#C)C#N</td>\n",
       "      <td>C#CCSc1nsc(SCC#C)c1C#N</td>\n",
       "      <td>multitarget</td>\n",
       "      <td>training</td>\n",
       "      <td>244</td>\n",
       "      <td>6</td>\n",
       "      <td>True</td>\n",
       "      <td>25.435406</td>\n",
       "      <td>25.543407</td>\n",
       "      <td>...</td>\n",
       "      <td>16.977541</td>\n",
       "      <td>17.072138</td>\n",
       "      <td>17.067848</td>\n",
       "      <td>17.018055</td>\n",
       "      <td>16.830230</td>\n",
       "      <td>16.742233</td>\n",
       "      <td>16.677542</td>\n",
       "      <td>16.708557</td>\n",
       "      <td>16.730461</td>\n",
       "      <td>multitarget training</td>\n",
       "    </tr>\n",
       "    <tr>\n",
       "      <th>2</th>\n",
       "      <td>16195846</td>\n",
       "      <td>C#Cc1ccc(cc1)C2CC(OC(=C2)C(=O)N3CCN(CC3)Cc4ccc...</td>\n",
       "      <td>C#Cc1ccc(C2C=C(C(=O)N3CCN(Cc4ccccc4)CC3)OC(OCC...</td>\n",
       "      <td>multitarget</td>\n",
       "      <td>training</td>\n",
       "      <td>151</td>\n",
       "      <td>6</td>\n",
       "      <td>True</td>\n",
       "      <td>26.490920</td>\n",
       "      <td>26.334568</td>\n",
       "      <td>...</td>\n",
       "      <td>20.697884</td>\n",
       "      <td>20.671890</td>\n",
       "      <td>20.672901</td>\n",
       "      <td>20.686928</td>\n",
       "      <td>20.666473</td>\n",
       "      <td>20.573582</td>\n",
       "      <td>20.579933</td>\n",
       "      <td>20.707083</td>\n",
       "      <td>20.698412</td>\n",
       "      <td>multitarget training</td>\n",
       "    </tr>\n",
       "    <tr>\n",
       "      <th>3</th>\n",
       "      <td>15910</td>\n",
       "      <td>C(#N)c1c(c(c(c(c1Cl)Cl)Cl)C#N)Cl</td>\n",
       "      <td>N#Cc1c(Cl)c(Cl)c(Cl)c(C#N)c1Cl</td>\n",
       "      <td>multitarget</td>\n",
       "      <td>test</td>\n",
       "      <td>24</td>\n",
       "      <td>5</td>\n",
       "      <td>True</td>\n",
       "      <td>16.172943</td>\n",
       "      <td>16.166480</td>\n",
       "      <td>...</td>\n",
       "      <td>14.846571</td>\n",
       "      <td>15.024720</td>\n",
       "      <td>14.982287</td>\n",
       "      <td>14.865892</td>\n",
       "      <td>14.852013</td>\n",
       "      <td>14.901800</td>\n",
       "      <td>14.970851</td>\n",
       "      <td>15.054768</td>\n",
       "      <td>14.919376</td>\n",
       "      <td>multitarget test</td>\n",
       "    </tr>\n",
       "    <tr>\n",
       "      <th>4</th>\n",
       "      <td>219402</td>\n",
       "      <td>C(=O)C(C1C(C(C(=O)O1)O)O)O</td>\n",
       "      <td>O=CC(O)C1OC(=O)C(O)C1O</td>\n",
       "      <td>multitarget</td>\n",
       "      <td>test</td>\n",
       "      <td>100</td>\n",
       "      <td>6</td>\n",
       "      <td>True</td>\n",
       "      <td>28.578636</td>\n",
       "      <td>28.121542</td>\n",
       "      <td>...</td>\n",
       "      <td>26.758510</td>\n",
       "      <td>26.623638</td>\n",
       "      <td>26.574932</td>\n",
       "      <td>26.662964</td>\n",
       "      <td>26.547087</td>\n",
       "      <td>26.294607</td>\n",
       "      <td>26.226974</td>\n",
       "      <td>26.233580</td>\n",
       "      <td>26.405636</td>\n",
       "      <td>multitarget test</td>\n",
       "    </tr>\n",
       "    <tr>\n",
       "      <th>...</th>\n",
       "      <td>...</td>\n",
       "      <td>...</td>\n",
       "      <td>...</td>\n",
       "      <td>...</td>\n",
       "      <td>...</td>\n",
       "      <td>...</td>\n",
       "      <td>...</td>\n",
       "      <td>...</td>\n",
       "      <td>...</td>\n",
       "      <td>...</td>\n",
       "      <td>...</td>\n",
       "      <td>...</td>\n",
       "      <td>...</td>\n",
       "      <td>...</td>\n",
       "      <td>...</td>\n",
       "      <td>...</td>\n",
       "      <td>...</td>\n",
       "      <td>...</td>\n",
       "      <td>...</td>\n",
       "      <td>...</td>\n",
       "      <td>...</td>\n",
       "    </tr>\n",
       "    <tr>\n",
       "      <th>126660</th>\n",
       "      <td>2271648</td>\n",
       "      <td>COc1ccc(cc1OC)C(=O)NCCSCc2ccco2</td>\n",
       "      <td>COc1ccc(C(=O)NCCSCc2ccco2)cc1OC</td>\n",
       "      <td>notarget</td>\n",
       "      <td>test</td>\n",
       "      <td>271</td>\n",
       "      <td>0</td>\n",
       "      <td>True</td>\n",
       "      <td>21.621990</td>\n",
       "      <td>21.261372</td>\n",
       "      <td>...</td>\n",
       "      <td>20.394420</td>\n",
       "      <td>20.464436</td>\n",
       "      <td>20.385246</td>\n",
       "      <td>20.422644</td>\n",
       "      <td>20.343554</td>\n",
       "      <td>20.201818</td>\n",
       "      <td>20.377756</td>\n",
       "      <td>20.376064</td>\n",
       "      <td>20.427292</td>\n",
       "      <td>notarget test</td>\n",
       "    </tr>\n",
       "    <tr>\n",
       "      <th>126661</th>\n",
       "      <td>16015661</td>\n",
       "      <td>COc1ccccc1OCC(=O)NCC2(CCCCC2)N3CCOCC3</td>\n",
       "      <td>COc1ccccc1OCC(=O)NCC1(N2CCOCC2)CCCCC1</td>\n",
       "      <td>notarget</td>\n",
       "      <td>test</td>\n",
       "      <td>36</td>\n",
       "      <td>0</td>\n",
       "      <td>True</td>\n",
       "      <td>20.991210</td>\n",
       "      <td>20.982899</td>\n",
       "      <td>...</td>\n",
       "      <td>24.373564</td>\n",
       "      <td>24.396523</td>\n",
       "      <td>24.438263</td>\n",
       "      <td>24.556833</td>\n",
       "      <td>24.522337</td>\n",
       "      <td>24.390020</td>\n",
       "      <td>24.422657</td>\n",
       "      <td>24.407433</td>\n",
       "      <td>24.354984</td>\n",
       "      <td>notarget test</td>\n",
       "    </tr>\n",
       "    <tr>\n",
       "      <th>126662</th>\n",
       "      <td>6460680</td>\n",
       "      <td>Cc1c(c(=O)n2c(n1)nc([nH]2)NC(=O)c3ccccc3F)Cl</td>\n",
       "      <td>Cc1nc2nc(NC(=O)c3ccccc3F)[nH]n2c(=O)c1Cl</td>\n",
       "      <td>notarget</td>\n",
       "      <td>test</td>\n",
       "      <td>35</td>\n",
       "      <td>0</td>\n",
       "      <td>True</td>\n",
       "      <td>40.816193</td>\n",
       "      <td>38.581573</td>\n",
       "      <td>...</td>\n",
       "      <td>34.832237</td>\n",
       "      <td>34.861350</td>\n",
       "      <td>35.050010</td>\n",
       "      <td>35.229584</td>\n",
       "      <td>35.210610</td>\n",
       "      <td>34.906185</td>\n",
       "      <td>35.122765</td>\n",
       "      <td>35.377747</td>\n",
       "      <td>35.315840</td>\n",
       "      <td>notarget test</td>\n",
       "    </tr>\n",
       "    <tr>\n",
       "      <th>126663</th>\n",
       "      <td>51359661</td>\n",
       "      <td>CCOC(=O)C1CSCCS(=O)(=O)N1Cc2cccc(c2)F</td>\n",
       "      <td>CCOC(=O)C1CSCCS(=O)(=O)N1Cc1cccc(F)c1</td>\n",
       "      <td>notarget</td>\n",
       "      <td>test</td>\n",
       "      <td>30</td>\n",
       "      <td>0</td>\n",
       "      <td>True</td>\n",
       "      <td>25.938965</td>\n",
       "      <td>26.273390</td>\n",
       "      <td>...</td>\n",
       "      <td>31.086374</td>\n",
       "      <td>31.321445</td>\n",
       "      <td>31.371016</td>\n",
       "      <td>31.305890</td>\n",
       "      <td>31.340025</td>\n",
       "      <td>31.437233</td>\n",
       "      <td>31.563883</td>\n",
       "      <td>31.821478</td>\n",
       "      <td>31.634583</td>\n",
       "      <td>notarget test</td>\n",
       "    </tr>\n",
       "    <tr>\n",
       "      <th>126664</th>\n",
       "      <td>7770013</td>\n",
       "      <td>COc1ccc(cc1OC)CC(=O)Nc2ccccc2c3ccccc3</td>\n",
       "      <td>COc1ccc(CC(=O)Nc2ccccc2-c2ccccc2)cc1OC</td>\n",
       "      <td>notarget</td>\n",
       "      <td>test</td>\n",
       "      <td>188</td>\n",
       "      <td>0</td>\n",
       "      <td>True</td>\n",
       "      <td>22.673986</td>\n",
       "      <td>22.499912</td>\n",
       "      <td>...</td>\n",
       "      <td>22.407072</td>\n",
       "      <td>22.727180</td>\n",
       "      <td>23.056517</td>\n",
       "      <td>23.267717</td>\n",
       "      <td>22.903782</td>\n",
       "      <td>22.568031</td>\n",
       "      <td>22.835087</td>\n",
       "      <td>22.813126</td>\n",
       "      <td>22.841808</td>\n",
       "      <td>notarget test</td>\n",
       "    </tr>\n",
       "  </tbody>\n",
       "</table>\n",
       "<p>126665 rows × 210 columns</p>\n",
       "</div>"
      ],
      "text/plain": [
       "            cids                             NostereoAromaticSMILES  \\\n",
       "0        1483729                           C#CCN1c2ccccc2Sc3c1nccc3   \n",
       "1        2803060                           C#CCSc1c(c(sn1)SCC#C)C#N   \n",
       "2       16195846  C#Cc1ccc(cc1)C2CC(OC(=C2)C(=O)N3CCN(CC3)Cc4ccc...   \n",
       "3          15910                   C(#N)c1c(c(c(c(c1Cl)Cl)Cl)C#N)Cl   \n",
       "4         219402                         C(=O)C(C1C(C(C(=O)O1)O)O)O   \n",
       "...          ...                                                ...   \n",
       "126660   2271648                    COc1ccc(cc1OC)C(=O)NCCSCc2ccco2   \n",
       "126661  16015661              COc1ccccc1OCC(=O)NCC2(CCCCC2)N3CCOCC3   \n",
       "126662   6460680       Cc1c(c(=O)n2c(n1)nc([nH]2)NC(=O)c3ccccc3F)Cl   \n",
       "126663  51359661              CCOC(=O)C1CSCCS(=O)(=O)N1Cc2cccc(c2)F   \n",
       "126664   7770013              COc1ccc(cc1OC)CC(=O)Nc2ccccc2c3ccccc3   \n",
       "\n",
       "                                             rdkit_smiles        class  \\\n",
       "0                                C#CCN1c2ccccc2Sc2cccnc21  multitarget   \n",
       "1                                  C#CCSc1nsc(SCC#C)c1C#N  multitarget   \n",
       "2       C#Cc1ccc(C2C=C(C(=O)N3CCN(Cc4ccccc4)CC3)OC(OCC...  multitarget   \n",
       "3                          N#Cc1c(Cl)c(Cl)c(Cl)c(C#N)c1Cl  multitarget   \n",
       "4                                  O=CC(O)C1OC(=O)C(O)C1O  multitarget   \n",
       "...                                                   ...          ...   \n",
       "126660                    COc1ccc(C(=O)NCCSCc2ccco2)cc1OC     notarget   \n",
       "126661              COc1ccccc1OCC(=O)NCC1(N2CCOCC2)CCCCC1     notarget   \n",
       "126662           Cc1nc2nc(NC(=O)c3ccccc3F)[nH]n2c(=O)c1Cl     notarget   \n",
       "126663              CCOC(=O)C1CSCCS(=O)(=O)N1Cc1cccc(F)c1     notarget   \n",
       "126664             COc1ccc(CC(=O)Nc2ccccc2-c2ccccc2)cc1OC     notarget   \n",
       "\n",
       "             set  inactive  active  encodable      NLL_0      NLL_1  ...  \\\n",
       "0       training       174       6       True  21.387634  21.237390  ...   \n",
       "1       training       244       6       True  25.435406  25.543407  ...   \n",
       "2       training       151       6       True  26.490920  26.334568  ...   \n",
       "3           test        24       5       True  16.172943  16.166480  ...   \n",
       "4           test       100       6       True  28.578636  28.121542  ...   \n",
       "...          ...       ...     ...        ...        ...        ...  ...   \n",
       "126660      test       271       0       True  21.621990  21.261372  ...   \n",
       "126661      test        36       0       True  20.991210  20.982899  ...   \n",
       "126662      test        35       0       True  40.816193  38.581573  ...   \n",
       "126663      test        30       0       True  25.938965  26.273390  ...   \n",
       "126664      test       188       0       True  22.673986  22.499912  ...   \n",
       "\n",
       "          NLL_192    NLL_193    NLL_194    NLL_195    NLL_196    NLL_197  \\\n",
       "0       16.529953  16.579832  16.597193  16.598688  16.543293  16.469414   \n",
       "1       16.977541  17.072138  17.067848  17.018055  16.830230  16.742233   \n",
       "2       20.697884  20.671890  20.672901  20.686928  20.666473  20.573582   \n",
       "3       14.846571  15.024720  14.982287  14.865892  14.852013  14.901800   \n",
       "4       26.758510  26.623638  26.574932  26.662964  26.547087  26.294607   \n",
       "...           ...        ...        ...        ...        ...        ...   \n",
       "126660  20.394420  20.464436  20.385246  20.422644  20.343554  20.201818   \n",
       "126661  24.373564  24.396523  24.438263  24.556833  24.522337  24.390020   \n",
       "126662  34.832237  34.861350  35.050010  35.229584  35.210610  34.906185   \n",
       "126663  31.086374  31.321445  31.371016  31.305890  31.340025  31.437233   \n",
       "126664  22.407072  22.727180  23.056517  23.267717  22.903782  22.568031   \n",
       "\n",
       "          NLL_198    NLL_199    NLL_200             class_set  \n",
       "0       16.514149  16.565979  16.504505  multitarget training  \n",
       "1       16.677542  16.708557  16.730461  multitarget training  \n",
       "2       20.579933  20.707083  20.698412  multitarget training  \n",
       "3       14.970851  15.054768  14.919376      multitarget test  \n",
       "4       26.226974  26.233580  26.405636      multitarget test  \n",
       "...           ...        ...        ...                   ...  \n",
       "126660  20.377756  20.376064  20.427292         notarget test  \n",
       "126661  24.422657  24.407433  24.354984         notarget test  \n",
       "126662  35.122765  35.377747  35.315840         notarget test  \n",
       "126663  31.563883  31.821478  31.634583         notarget test  \n",
       "126664  22.835087  22.813126  22.841808         notarget test  \n",
       "\n",
       "[126665 rows x 210 columns]"
      ]
     },
     "execution_count": 8,
     "metadata": {},
     "output_type": "execute_result"
    }
   ],
   "source": [
    "all_data"
   ]
  },
  {
   "cell_type": "code",
   "execution_count": 9,
   "metadata": {},
   "outputs": [],
   "source": [
    "scaffolds = all_data[\"rdkit_smiles\"].parallel_map(generate_scaffolds)\n",
    "bm = [i[0] for i in scaffolds]\n",
    "carbon = [i[0] for i in scaffolds]\n",
    "all_data[\"BM scaffold\"] = bm\n",
    "all_data[\"Carbon skeleton\"] = carbon"
   ]
  },
  {
   "cell_type": "code",
   "execution_count": 10,
   "metadata": {},
   "outputs": [],
   "source": [
    "def add_epoch_to_list(epoch, mylist):\n",
    "    if epoch not in mylist:\n",
    "        mylist.append(epoch)\n",
    "    return mylist \n",
    "        \n",
    "        \n",
    "epochs = list(range(26))\n",
    "steps = [100,50,25,10,5,2,1]\n",
    "for r in steps:\n",
    "    for i in range(0,201,r):\n",
    "        epochs = add_epoch_to_list(i,epochs)\n"
   ]
  },
  {
   "cell_type": "code",
   "execution_count": 11,
   "metadata": {},
   "outputs": [
    {
     "data": {
      "application/vnd.jupyter.widget-view+json": {
       "model_id": "0574114fe92b489d9117a2431d76f2c7",
       "version_major": 2,
       "version_minor": 0
      },
      "text/plain": [
       "HBox(children=(IntProgress(value=0, max=201), HTML(value='')))"
      ]
     },
     "metadata": {},
     "output_type": "display_data"
    },
    {
     "name": "stdout",
     "output_type": "stream",
     "text": [
      "\n"
     ]
    }
   ],
   "source": [
    "for epoch in tqdm(epochs):\n",
    "    if os.path.exists(f\"sampled/{epoch}/processed_with_nn_with_scaffold.feather\"):\n",
    "        continue\n",
    "    else:\n",
    "        data = pd.read_feather(f\"sampled/{epoch}/processed_with_nn.feather\")\n",
    "        scaffolds = data[\"normalized_smiles\"].parallel_map(generate_scaffolds)\n",
    "        bm = [i[0] for i in scaffolds]\n",
    "        carbon = [i[0] for i in scaffolds]\n",
    "        data[\"BM scaffold\"] = bm\n",
    "        data[\"Carbon skeleton\"] = carbon\n",
    "        data.to_feather(f\"sampled/{epoch}/processed_with_nn_with_scaffold.feather\")"
   ]
  },
  {
   "cell_type": "code",
   "execution_count": 12,
   "metadata": {},
   "outputs": [],
   "source": [
    "value_var = list(map(str,list(range(0,201))))\n",
    "def renamer(x):\n",
    "    if x.startswith(\"NLL\"):\n",
    "        x = x.split(\"_\")[-1]\n",
    "    return x\n",
    "all_data_plot = all_data.copy().rename(columns=renamer)\n",
    "all_data_plot = pd.melt(all_data_plot, id_vars='class_set', value_vars=value_var, var_name=\"Epoch\", value_name='Negative Log Likelihood')\n",
    "all_data_plot.Epoch = all_data_plot.Epoch.astype(\"int\").astype('category')\n",
    "all_data_plot.class_set = all_data_plot.class_set.astype('category')\n",
    "#all_data_plot.class_set.cat.reorder_categories(['NonPromiscuous (test)', 'Promiscuous (training)', 'Promiscuous (test)'], inplace=True)\n",
    "#all_data_plot.class_set.cat.rename_categories({'NonPromiscuous (test)':\"NonPromiscuous\"}, inplace=True)\n",
    "all_data_plot[\"Negative Log Likelihood (Base 10)\"]=-1*np.log10(np.exp(-1*all_data_plot[\"Negative Log Likelihood\"]))\n",
    "all_data_plot[\"Negative Log Likelihood (Base e)\"] = all_data_plot[\"Negative Log Likelihood\"]"
   ]
  },
  {
   "cell_type": "code",
   "execution_count": 254,
   "metadata": {},
   "outputs": [
    {
     "data": {
      "application/vnd.jupyter.widget-view+json": {
       "model_id": "a5a5286a86c04ebc971069450a31decc",
       "version_major": 2,
       "version_minor": 0
      },
      "text/plain": [
       "HBox(children=(IntProgress(value=0, max=201), HTML(value='')))"
      ]
     },
     "metadata": {},
     "output_type": "display_data"
    },
    {
     "name": "stdout",
     "output_type": "stream",
     "text": [
      "\n"
     ]
    }
   ],
   "source": [
    "classes = all_data[\"class_set\"].unique()\n",
    "distances = [0.1, 0.3, 0.4, 0.5]\n",
    "\n",
    "\n",
    "matches = {}\n",
    "matches_without_exact_matches = {}\n",
    "matches_without_training_bm = {}\n",
    "matches_without_training_skeleton = {}\n",
    "for epoch in tqdm(range(201)):\n",
    "    data = pd.read_feather(f\"sampled/{epoch}/processed_with_nn_with_scaffold.feather\").query(\"valid == 1\").drop_duplicates(\"normalized_smiles\")\n",
    "    \n",
    "    known_compounds = set(all_data[\"rdkit_smiles\"])\n",
    "    \n",
    "    data_without_matches = data.query(\"normalized_smiles not in @known_compounds\")\n",
    "    \n",
    "    known_training_BM = set(all_data.query(\"class_set == 'multitarget training'\")[\"BM scaffold\"])\n",
    "    data_without_training_BM = data.query(\"`BM scaffold` not in @known_training_BM\")\n",
    "\n",
    "    known_training_skeleton = set(all_data.query(\"class_set == 'multitarget training'\")[\"Carbon skeleton\"])\n",
    "    data_without_training_skeleton = data.query(\"`Carbon skeleton` not in @known_training_skeleton\")\n",
    "\n",
    "    \n",
    "    for class_ in classes:\n",
    "        for type_ in [\"BM scaffold\", \"Carbon skeleton\"]:\n",
    "            name = f\"{class_} {type_}\"\n",
    "            set_smiles = all_data.query(\"class_set == @class_\")[type_].drop_duplicates()\n",
    "            \n",
    "            nb_matched = len(data.query(f\"`{type_}` in @set_smiles\").drop_duplicates(type_))\n",
    "            percent_matched = (nb_matched / len(set_smiles)) * 100\n",
    "            if name not in matches:\n",
    "                matches[name] = []\n",
    "            matches[name].append((nb_matched, percent_matched))\n",
    "\n",
    "\n",
    "            nb_matched = len(data_without_matches.query(f\"`{type_}` in @set_smiles\").drop_duplicates(type_))\n",
    "            percent_matched = (nb_matched / len(set_smiles)) * 100\n",
    "            if name not in matches_without_exact_matches:\n",
    "                matches_without_exact_matches[name] = []\n",
    "            matches_without_exact_matches[name].append((nb_matched, percent_matched))\n",
    "\n",
    "            set_smiles = all_data.query(\"class_set == @class_ and `BM scaffold` not in @known_training_BM\")[type_].drop_duplicates()\n",
    "            nb_matched = len(data_without_training_BM.query(f\"`{type_}` in @set_smiles\").drop_duplicates(type_))\n",
    "            if len(set_smiles) == 0:\n",
    "                percent_matched = 0\n",
    "            else:\n",
    "                percent_matched = (nb_matched / len(set_smiles)) * 100\n",
    "            if name not in matches_without_training_bm:\n",
    "                matches_without_training_bm[name] = []\n",
    "            matches_without_training_bm[name].append((nb_matched, percent_matched))\n",
    "\n",
    "            set_smiles = all_data.query(\"class_set == @class_ and `Carbon skeleton` not in @known_training_BM\")[type_].drop_duplicates()\n",
    "            nb_matched = len(data_without_training_skeleton.query(f\"`{type_}` in @set_smiles\").drop_duplicates(type_))\n",
    "            if len(set_smiles) == 0:\n",
    "                percent_matched = 0\n",
    "            else:\n",
    "                percent_matched = (nb_matched / len(set_smiles)) * 100\n",
    "            if name not in matches_without_training_skeleton:\n",
    "                matches_without_training_skeleton[name] = []\n",
    "            matches_without_training_skeleton[name].append((nb_matched, percent_matched))\n"
   ]
  },
  {
   "cell_type": "code",
   "execution_count": 258,
   "metadata": {},
   "outputs": [
    {
     "data": {
      "text/plain": [
       "869"
      ]
     },
     "execution_count": 258,
     "metadata": {},
     "output_type": "execute_result"
    }
   ],
   "source": [
    "len(known_training_skeleton)"
   ]
  },
  {
   "cell_type": "code",
   "execution_count": 262,
   "metadata": {},
   "outputs": [
    {
     "name": "stdout",
     "output_type": "stream",
     "text": [
      "multitarget training 869 0\n",
      "multitarget test 1463 1252\n",
      "singletarget test 33977 33642\n",
      "notarget test 34024 33779\n"
     ]
    }
   ],
   "source": [
    "for class_ in classes:\n",
    "    smiles = all_data.query(\"class_set == @class_\")[\"BM scaffold\"].drop_duplicates()\n",
    "    set_smiles = all_data.query(\"class_set == @class_ and `BM scaffold` not in @known_training_BM\")[\"BM scaffold\"].drop_duplicates()\n",
    "    print(class_, len(smiles), len(set_smiles))"
   ]
  },
  {
   "cell_type": "code",
   "execution_count": 278,
   "metadata": {},
   "outputs": [
    {
     "data": {
      "image/png": "[encoded data removed]",
      "text/plain": [
       "<Figure size 864x324 with 2 Axes>"
      ]
     },
     "metadata": {
      "image/png": {
       "height": 350,
       "width": 856
      }
     },
     "output_type": "display_data"
    }
   ],
   "source": [
    "with sns.plotting_context(\"paper\", font_scale=1.4):\n",
    "    with sns.axes_style(\"whitegrid\"):\n",
    "        fig, axes = plt.subplots(nrows=1, ncols=2, figsize=(12,4.5)) \n",
    "        \n",
    "        \n",
    "        axes[0].plot(np.array(matches[\"multitarget training BM scaffold\"])[:,0])\n",
    "        axes[0].plot(np.array(matches[\"multitarget test BM scaffold\"])[:,0])\n",
    "        axes[0].plot(np.array(matches[\"singletarget test BM scaffold\"])[:,0])\n",
    "        axes[0].plot(np.array(matches[\"notarget test BM scaffold\"])[:,0])\n",
    "        axes[0].set_xlim(0,200)\n",
    "        #axes[0].set_ylim(0,3000)\n",
    "        axes[0].set_xlabel(\"Epoch\")\n",
    "        axes[0].set_ylabel(\"Retrieved\")\n",
    "        axes[0].set_title(\"(a)\")\n",
    "        \n",
    "        \n",
    "        \n",
    "        \n",
    "        axes[1].plot(np.array(matches[\"multitarget training BM scaffold\"])[:,1])\n",
    "        axes[1].plot(np.array(matches[\"multitarget test BM scaffold\"])[:,1])\n",
    "        axes[1].plot(np.array(matches[\"singletarget test BM scaffold\"])[:,1])\n",
    "        axes[1].plot(np.array(matches[\"notarget test BM scaffold\"])[:,1])\n",
    "        axes[1].set_xlim(0,200)\n",
    "        #axes[1].set_ylim(20,100)\n",
    "        axes[1].set_xlabel(\"Epoch\")\n",
    "        axes[1].set_ylabel(\"Retrieved (%)\")\n",
    "        axes[1].set_title(\"(b)\")\n",
    "        \n",
    "        \n",
    "        plt.tight_layout()\n",
    "        lgd = plt.legend([\"Multi-target (training)\",\"Multi-target (test)\",\"Single-target (test)\",\"No-target (test)\" ],loc='upper center', bbox_to_anchor=(-0.1,-0.2), ncol=4)\n",
    "        \n",
    "        if not os.path.exists(\"scaffolds_retrieved.svg\"):\n",
    "            fig.savefig(\"scaffolds_retrieved.svg\", bbox_extra_artists=(lgd,), bbox_inches='tight')\n",
    "        if not os.path.exists(\"scaffolds_retrieved.png\"):\n",
    "            fig.savefig(\"scaffolds_retrieved.png\", dpi=400, bbox_extra_artists=(lgd,), bbox_inches='tight')"
   ]
  },
  {
   "cell_type": "code",
   "execution_count": null,
   "metadata": {},
   "outputs": [],
   "source": []
  }
 ],
 "metadata": {
  "kernelspec": {
   "display_name": "Python 3",
   "language": "python",
   "name": "python3"
  },
  "language_info": {
   "codemirror_mode": {
    "name": "ipython",
    "version": 3
   },
   "file_extension": ".py",
   "mimetype": "text/x-python",
   "name": "python",
   "nbconvert_exporter": "python",
   "pygments_lexer": "ipython3",
   "version": "3.6.5"
  },
  "widgets": {
   "application/vnd.jupyter.widget-state+json": {
    "state": {
     "00326fd447ac46e99e59e0ed3b4089b9": {
      "model_module": "@jupyter-widgets/controls",
      "model_module_version": "1.5.0",
      "model_name": "ProgressStyleModel",
      "state": {
       "description_width": "initial"
      }
     },
     "0048a802648f404fad1d8a727ff43dcd": {
      "model_module": "@jupyter-widgets/controls",
      "model_module_version": "1.5.0",
      "model_name": "ProgressStyleModel",
      "state": {
       "description_width": "initial"
      }
     },
     "018396089e1e4045af9d70e355941261": {
      "model_module": "@jupyter-widgets/controls",
      "model_module_version": "1.5.0",
      "model_name": "IntProgressModel",
      "state": {
       "bar_style": "success",
       "description": "100%",
       "layout": "IPY_MODEL_92278b0b3be5467d9c3f09c239d37093",
       "max": 201,
       "style": "IPY_MODEL_3ee3c33c5c6240bd861eb0a15c359888",
       "value": 201
      }
     },
     "0574114fe92b489d9117a2431d76f2c7": {
      "model_module": "@jupyter-widgets/controls",
      "model_module_version": "1.5.0",
      "model_name": "HBoxModel",
      "state": {
       "children": [
        "IPY_MODEL_018396089e1e4045af9d70e355941261",
        "IPY_MODEL_e9c3121300564ca3ad7522f8bd4d3cf6"
       ],
       "layout": "IPY_MODEL_48c1c4110ea74a42a92bba26262993e2"
      }
     },
     "059996785f874aae8f1e215faa329796": {
      "model_module": "@jupyter-widgets/controls",
      "model_module_version": "1.5.0",
      "model_name": "DescriptionStyleModel",
      "state": {
       "description_width": ""
      }
     },
     "05d5f64d0a7b4232bfe55a6caaa4fe96": {
      "model_module": "@jupyter-widgets/controls",
      "model_module_version": "1.5.0",
      "model_name": "IntProgressModel",
      "state": {
       "bar_style": "danger",
       "description": "  0%",
       "layout": "IPY_MODEL_5f01e352a96241b3b321ee5d05d5eb2e",
       "max": 201,
       "style": "IPY_MODEL_bb63f925a34345e892e7595c0cfae40d"
      }
     },
     "0d513c5f5a2e44dd8082c22a364bfa00": {
      "model_module": "@jupyter-widgets/controls",
      "model_module_version": "1.5.0",
      "model_name": "ProgressStyleModel",
      "state": {
       "description_width": "initial"
      }
     },
     "1112493506a140ec847e68dbeccf4003": {
      "model_module": "@jupyter-widgets/controls",
      "model_module_version": "1.5.0",
      "model_name": "ProgressStyleModel",
      "state": {
       "description_width": "initial"
      }
     },
     "12e1cf2bbad045a5af86f73ecba3af82": {
      "model_module": "@jupyter-widgets/base",
      "model_module_version": "1.2.0",
      "model_name": "LayoutModel",
      "state": {}
     },
     "1434870483644d2195b4839a77983e84": {
      "model_module": "@jupyter-widgets/controls",
      "model_module_version": "1.5.0",
      "model_name": "IntProgressModel",
      "state": {
       "bar_style": "danger",
       "description": "  0%",
       "layout": "IPY_MODEL_e5ad57f9254441d0be9cca6e42074c10",
       "max": 201,
       "style": "IPY_MODEL_3f58fa7409e043f9a20fe8d71c2ea388"
      }
     },
     "14da18d8ccc645c496ac0a8ffb2c5736": {
      "model_module": "@jupyter-widgets/base",
      "model_module_version": "1.2.0",
      "model_name": "LayoutModel",
      "state": {}
     },
     "20cc1d2a6c3b482f839d283e8f71a3cb": {
      "model_module": "@jupyter-widgets/base",
      "model_module_version": "1.2.0",
      "model_name": "LayoutModel",
      "state": {}
     },
     "25b3809f94954e5a820dad27625a5d47": {
      "model_module": "@jupyter-widgets/controls",
      "model_module_version": "1.5.0",
      "model_name": "DescriptionStyleModel",
      "state": {
       "description_width": ""
      }
     },
     "272625ec68674418b530d98679477d0f": {
      "model_module": "@jupyter-widgets/controls",
      "model_module_version": "1.5.0",
      "model_name": "HBoxModel",
      "state": {
       "children": [
        "IPY_MODEL_449a85019b2e4a96a869b3009166ddbd",
        "IPY_MODEL_a5aa776babe445edbc0ad3b3d419504d"
       ],
       "layout": "IPY_MODEL_20cc1d2a6c3b482f839d283e8f71a3cb"
      }
     },
     "2771226bc2d0496da200fd459f882c0f": {
      "model_module": "@jupyter-widgets/controls",
      "model_module_version": "1.5.0",
      "model_name": "HTMLModel",
      "state": {
       "layout": "IPY_MODEL_846aa917d4ad46d6b522fd0993413839",
       "style": "IPY_MODEL_a88dcdc188a84fc2b685952164fc73fa",
       "value": " 0/201 [00:02&lt;?, ?it/s]"
      }
     },
     "27b259734105483da8beacdecdcc96e2": {
      "model_module": "@jupyter-widgets/controls",
      "model_module_version": "1.5.0",
      "model_name": "HBoxModel",
      "state": {
       "children": [
        "IPY_MODEL_7b973c155ce641c0b920e2620e981630",
        "IPY_MODEL_3d7e832069d04b94934e3f275c3c6095"
       ],
       "layout": "IPY_MODEL_2e5544316e654ef2ad82efe135421f2a"
      }
     },
     "27f65adb77d34ecdb5b82a7d2aa9ff28": {
      "model_module": "@jupyter-widgets/base",
      "model_module_version": "1.2.0",
      "model_name": "LayoutModel",
      "state": {}
     },
     "28344c17c7a541b8b0d60fe484af7722": {
      "model_module": "@jupyter-widgets/controls",
      "model_module_version": "1.5.0",
      "model_name": "DescriptionStyleModel",
      "state": {
       "description_width": ""
      }
     },
     "2a2c9b2adba346dca9b4d99a0b05a470": {
      "model_module": "@jupyter-widgets/controls",
      "model_module_version": "1.5.0",
      "model_name": "HBoxModel",
      "state": {
       "children": [
        "IPY_MODEL_2f320d607972480982f30af8fa565cb8",
        "IPY_MODEL_f5ed596686c349729771a37ff0104ddc"
       ],
       "layout": "IPY_MODEL_b2209d5a1226406d8512db30480a3844"
      }
     },
     "2c23f9fee6cb46bfb58f48877b319fde": {
      "model_module": "@jupyter-widgets/base",
      "model_module_version": "1.2.0",
      "model_name": "LayoutModel",
      "state": {}
     },
     "2ccd32958ad349e29d5eef1d67aa1727": {
      "model_module": "@jupyter-widgets/controls",
      "model_module_version": "1.5.0",
      "model_name": "ProgressStyleModel",
      "state": {
       "description_width": "initial"
      }
     },
     "2e5544316e654ef2ad82efe135421f2a": {
      "model_module": "@jupyter-widgets/base",
      "model_module_version": "1.2.0",
      "model_name": "LayoutModel",
      "state": {}
     },
     "2f320d607972480982f30af8fa565cb8": {
      "model_module": "@jupyter-widgets/controls",
      "model_module_version": "1.5.0",
      "model_name": "IntProgressModel",
      "state": {
       "bar_style": "danger",
       "description": "  0%",
       "layout": "IPY_MODEL_788773a1f76a45cd875d5982f941d2a2",
       "max": 201,
       "style": "IPY_MODEL_c05c31990d5b43308a92108c0bae873c"
      }
     },
     "306ee86f7cbb418f9c87808c3040aa4c": {
      "model_module": "@jupyter-widgets/controls",
      "model_module_version": "1.5.0",
      "model_name": "DescriptionStyleModel",
      "state": {
       "description_width": ""
      }
     },
     "3142300faa554b1aaf980332f4691fb4": {
      "model_module": "@jupyter-widgets/controls",
      "model_module_version": "1.5.0",
      "model_name": "HBoxModel",
      "state": {
       "children": [
        "IPY_MODEL_dab9dc658dd7457f8097bcb13d3f8680",
        "IPY_MODEL_46a8faf495294f7b81bae4639196793f"
       ],
       "layout": "IPY_MODEL_27f65adb77d34ecdb5b82a7d2aa9ff28"
      }
     },
     "31bb48384ad0410bb32790817c29cb83": {
      "model_module": "@jupyter-widgets/controls",
      "model_module_version": "1.5.0",
      "model_name": "HTMLModel",
      "state": {
       "layout": "IPY_MODEL_7559c17237e545b588200d5e79455e64",
       "style": "IPY_MODEL_35ec41995fa141e69f41bfdff6f25530",
       "value": " 0/201 [00:01&lt;?, ?it/s]"
      }
     },
     "31c1c45b201144ec9e95f4b2e250dd77": {
      "model_module": "@jupyter-widgets/controls",
      "model_module_version": "1.5.0",
      "model_name": "IntProgressModel",
      "state": {
       "bar_style": "danger",
       "description": "  0%",
       "layout": "IPY_MODEL_603ba095c0134b4599511ca3bbb1c001",
       "max": 201,
       "style": "IPY_MODEL_da7dce5391ed4d869850d4a90bf71072"
      }
     },
     "3222ee85927c48b592b3bf05419489c5": {
      "model_module": "@jupyter-widgets/base",
      "model_module_version": "1.2.0",
      "model_name": "LayoutModel",
      "state": {}
     },
     "34a7ed82bdff4cd1a9e70485fa09597b": {
      "model_module": "@jupyter-widgets/base",
      "model_module_version": "1.2.0",
      "model_name": "LayoutModel",
      "state": {}
     },
     "35ec41995fa141e69f41bfdff6f25530": {
      "model_module": "@jupyter-widgets/controls",
      "model_module_version": "1.5.0",
      "model_name": "DescriptionStyleModel",
      "state": {
       "description_width": ""
      }
     },
     "36ef8143c8c24421b92d428fa11d2bcd": {
      "model_module": "@jupyter-widgets/controls",
      "model_module_version": "1.5.0",
      "model_name": "HBoxModel",
      "state": {
       "children": [
        "IPY_MODEL_31c1c45b201144ec9e95f4b2e250dd77",
        "IPY_MODEL_df1b355147424c6f882a425af3fc8862"
       ],
       "layout": "IPY_MODEL_860721db63184cf281a0f661c2edf1e4"
      }
     },
     "379ec375a0e34ad5a9713d67691500f5": {
      "model_module": "@jupyter-widgets/controls",
      "model_module_version": "1.5.0",
      "model_name": "HTMLModel",
      "state": {
       "layout": "IPY_MODEL_c6b72540d95042d4995f662b1b85deb7",
       "style": "IPY_MODEL_4502f8dbff98476aa493d190728740e7",
       "value": " 0/201 [00:02&lt;?, ?it/s]"
      }
     },
     "39fa6e7a7d3542f58453786f5a6d816e": {
      "model_module": "@jupyter-widgets/controls",
      "model_module_version": "1.5.0",
      "model_name": "HBoxModel",
      "state": {
       "children": [
        "IPY_MODEL_1434870483644d2195b4839a77983e84",
        "IPY_MODEL_c12192d12c3d4e32a651753186ec4824"
       ],
       "layout": "IPY_MODEL_ac02cf2c3360404d8b00c364eec11204"
      }
     },
     "3aecfb7a1d00446485ed2a13c7780c4f": {
      "model_module": "@jupyter-widgets/controls",
      "model_module_version": "1.5.0",
      "model_name": "DescriptionStyleModel",
      "state": {
       "description_width": ""
      }
     },
     "3b899db11105493387927a65d2f4863e": {
      "model_module": "@jupyter-widgets/controls",
      "model_module_version": "1.5.0",
      "model_name": "HTMLModel",
      "state": {
       "layout": "IPY_MODEL_3222ee85927c48b592b3bf05419489c5",
       "style": "IPY_MODEL_be862ec9fc97460ebc3189940f004c98",
       "value": " 201/201 [28:29&lt;00:00,  8.50s/it]"
      }
     },
     "3d7e832069d04b94934e3f275c3c6095": {
      "model_module": "@jupyter-widgets/controls",
      "model_module_version": "1.5.0",
      "model_name": "HTMLModel",
      "state": {
       "layout": "IPY_MODEL_eb34e14ee64e46ca939eabdc66e31d97",
       "style": "IPY_MODEL_407bfe7bbedc49a58ec0c047543222e7",
       "value": " 72/201 [09:38&lt;17:13,  8.01s/it]"
      }
     },
     "3ee3c33c5c6240bd861eb0a15c359888": {
      "model_module": "@jupyter-widgets/controls",
      "model_module_version": "1.5.0",
      "model_name": "ProgressStyleModel",
      "state": {
       "description_width": "initial"
      }
     },
     "3f58fa7409e043f9a20fe8d71c2ea388": {
      "model_module": "@jupyter-widgets/controls",
      "model_module_version": "1.5.0",
      "model_name": "ProgressStyleModel",
      "state": {
       "description_width": "initial"
      }
     },
     "407bfe7bbedc49a58ec0c047543222e7": {
      "model_module": "@jupyter-widgets/controls",
      "model_module_version": "1.5.0",
      "model_name": "DescriptionStyleModel",
      "state": {
       "description_width": ""
      }
     },
     "449a85019b2e4a96a869b3009166ddbd": {
      "model_module": "@jupyter-widgets/controls",
      "model_module_version": "1.5.0",
      "model_name": "IntProgressModel",
      "state": {
       "bar_style": "danger",
       "description": "  0%",
       "layout": "IPY_MODEL_94cc1b0b333848df97fa3b090d52268e",
       "max": 201,
       "style": "IPY_MODEL_1112493506a140ec847e68dbeccf4003"
      }
     },
     "4502f8dbff98476aa493d190728740e7": {
      "model_module": "@jupyter-widgets/controls",
      "model_module_version": "1.5.0",
      "model_name": "DescriptionStyleModel",
      "state": {
       "description_width": ""
      }
     },
     "450643bc23364d169deaf4eb833c3a3f": {
      "model_module": "@jupyter-widgets/base",
      "model_module_version": "1.2.0",
      "model_name": "LayoutModel",
      "state": {}
     },
     "45b1e1a9fc3e475c9752ca01067c9b3e": {
      "model_module": "@jupyter-widgets/base",
      "model_module_version": "1.2.0",
      "model_name": "LayoutModel",
      "state": {}
     },
     "46a8faf495294f7b81bae4639196793f": {
      "model_module": "@jupyter-widgets/controls",
      "model_module_version": "1.5.0",
      "model_name": "HTMLModel",
      "state": {
       "layout": "IPY_MODEL_62322523a39e4c18b92cac94873f7e75",
       "style": "IPY_MODEL_cfc0c7ecbb0d427d9b959644078dd6e7",
       "value": " 201/201 [2:24:05&lt;00:00, 43.01s/it]"
      }
     },
     "46dab456acda4571948c8874549c0f94": {
      "model_module": "@jupyter-widgets/controls",
      "model_module_version": "1.5.0",
      "model_name": "HBoxModel",
      "state": {
       "children": [
        "IPY_MODEL_9827ccdb97b84bfab47f8f5dce110b60",
        "IPY_MODEL_f7bc5e90e1f44d219dd185f7e3047598"
       ],
       "layout": "IPY_MODEL_b4e3edc1841a45118a95b07fee888cf4"
      }
     },
     "48c1c4110ea74a42a92bba26262993e2": {
      "model_module": "@jupyter-widgets/base",
      "model_module_version": "1.2.0",
      "model_name": "LayoutModel",
      "state": {}
     },
     "519bc62f2e774c8795a85e5af2b4bad6": {
      "model_module": "@jupyter-widgets/controls",
      "model_module_version": "1.5.0",
      "model_name": "DescriptionStyleModel",
      "state": {
       "description_width": ""
      }
     },
     "521a0403d596498b9a05b5d9401fbd10": {
      "model_module": "@jupyter-widgets/base",
      "model_module_version": "1.2.0",
      "model_name": "LayoutModel",
      "state": {}
     },
     "5f01e352a96241b3b321ee5d05d5eb2e": {
      "model_module": "@jupyter-widgets/base",
      "model_module_version": "1.2.0",
      "model_name": "LayoutModel",
      "state": {}
     },
     "603ba095c0134b4599511ca3bbb1c001": {
      "model_module": "@jupyter-widgets/base",
      "model_module_version": "1.2.0",
      "model_name": "LayoutModel",
      "state": {}
     },
     "62322523a39e4c18b92cac94873f7e75": {
      "model_module": "@jupyter-widgets/base",
      "model_module_version": "1.2.0",
      "model_name": "LayoutModel",
      "state": {}
     },
     "66048350f99543aba4ace682248fac48": {
      "model_module": "@jupyter-widgets/controls",
      "model_module_version": "1.5.0",
      "model_name": "IntProgressModel",
      "state": {
       "bar_style": "success",
       "description": "100%",
       "layout": "IPY_MODEL_cfb12677e48c4103b5fd771335cfdff4",
       "max": 201,
       "style": "IPY_MODEL_0d513c5f5a2e44dd8082c22a364bfa00",
       "value": 201
      }
     },
     "67217401a9c54fbe9e6ac3267af897fd": {
      "model_module": "@jupyter-widgets/controls",
      "model_module_version": "1.5.0",
      "model_name": "IntProgressModel",
      "state": {
       "bar_style": "danger",
       "description": "  0%",
       "layout": "IPY_MODEL_afeea4a1763d457698c2c3294e95ea58",
       "max": 201,
       "style": "IPY_MODEL_7fe60493555d48b4acf4b1999730d935"
      }
     },
     "685a2fb580ed460ca10a93782d4fd60c": {
      "model_module": "@jupyter-widgets/base",
      "model_module_version": "1.2.0",
      "model_name": "LayoutModel",
      "state": {}
     },
     "73f3056fb3e54f8c9ff79aff51dba89e": {
      "model_module": "@jupyter-widgets/controls",
      "model_module_version": "1.5.0",
      "model_name": "ProgressStyleModel",
      "state": {
       "description_width": "initial"
      }
     },
     "7559c17237e545b588200d5e79455e64": {
      "model_module": "@jupyter-widgets/base",
      "model_module_version": "1.2.0",
      "model_name": "LayoutModel",
      "state": {}
     },
     "788773a1f76a45cd875d5982f941d2a2": {
      "model_module": "@jupyter-widgets/base",
      "model_module_version": "1.2.0",
      "model_name": "LayoutModel",
      "state": {}
     },
     "79feb9e4b46a468dbf4ec07007a299b4": {
      "model_module": "@jupyter-widgets/controls",
      "model_module_version": "1.5.0",
      "model_name": "HBoxModel",
      "state": {
       "children": [
        "IPY_MODEL_fca90471fd964320912d3f54845f31cc",
        "IPY_MODEL_a595c6b035ec46b1902486049a7ceea3"
       ],
       "layout": "IPY_MODEL_b81f4dba8ae6454fbc03373f1a0ca7e5"
      }
     },
     "7a75a8cd656140aea07e7891b7f9bdf8": {
      "model_module": "@jupyter-widgets/controls",
      "model_module_version": "1.5.0",
      "model_name": "HTMLModel",
      "state": {
       "layout": "IPY_MODEL_450643bc23364d169deaf4eb833c3a3f",
       "style": "IPY_MODEL_7b0e367289a74163bc51ed7172c99551",
       "value": " 0/201 [00:03&lt;?, ?it/s]"
      }
     },
     "7b0e367289a74163bc51ed7172c99551": {
      "model_module": "@jupyter-widgets/controls",
      "model_module_version": "1.5.0",
      "model_name": "DescriptionStyleModel",
      "state": {
       "description_width": ""
      }
     },
     "7b973c155ce641c0b920e2620e981630": {
      "model_module": "@jupyter-widgets/controls",
      "model_module_version": "1.5.0",
      "model_name": "IntProgressModel",
      "state": {
       "bar_style": "danger",
       "description": " 36%",
       "layout": "IPY_MODEL_fd9cf0b8d7464b29a6ba03ca05fd35be",
       "max": 201,
       "style": "IPY_MODEL_0048a802648f404fad1d8a727ff43dcd",
       "value": 72
      }
     },
     "7f17cc16b3604808a8646507717876e2": {
      "model_module": "@jupyter-widgets/base",
      "model_module_version": "1.2.0",
      "model_name": "LayoutModel",
      "state": {}
     },
     "7fe60493555d48b4acf4b1999730d935": {
      "model_module": "@jupyter-widgets/controls",
      "model_module_version": "1.5.0",
      "model_name": "ProgressStyleModel",
      "state": {
       "description_width": "initial"
      }
     },
     "820d06ec7dd348e782a695c6501068ff": {
      "model_module": "@jupyter-widgets/controls",
      "model_module_version": "1.5.0",
      "model_name": "ProgressStyleModel",
      "state": {
       "description_width": "initial"
      }
     },
     "846aa917d4ad46d6b522fd0993413839": {
      "model_module": "@jupyter-widgets/base",
      "model_module_version": "1.2.0",
      "model_name": "LayoutModel",
      "state": {}
     },
     "860721db63184cf281a0f661c2edf1e4": {
      "model_module": "@jupyter-widgets/base",
      "model_module_version": "1.2.0",
      "model_name": "LayoutModel",
      "state": {}
     },
     "8717600a03c74edc9bb0915221c0bdf2": {
      "model_module": "@jupyter-widgets/base",
      "model_module_version": "1.2.0",
      "model_name": "LayoutModel",
      "state": {}
     },
     "8a647e49ea834d71b6aa06772e3a0229": {
      "model_module": "@jupyter-widgets/controls",
      "model_module_version": "1.5.0",
      "model_name": "HBoxModel",
      "state": {
       "children": [
        "IPY_MODEL_05d5f64d0a7b4232bfe55a6caaa4fe96",
        "IPY_MODEL_7a75a8cd656140aea07e7891b7f9bdf8"
       ],
       "layout": "IPY_MODEL_9abeedc6bfbe4a93bccd62bfbb77f6a5"
      }
     },
     "8cf6790a8a7d4d288bb10d673be897e7": {
      "model_module": "@jupyter-widgets/base",
      "model_module_version": "1.2.0",
      "model_name": "LayoutModel",
      "state": {}
     },
     "8f2cdd04317f48ea91294ab7f5ec403d": {
      "model_module": "@jupyter-widgets/controls",
      "model_module_version": "1.5.0",
      "model_name": "ProgressStyleModel",
      "state": {
       "description_width": "initial"
      }
     },
     "8f56658bd47844ba8dc6ac4569588d87": {
      "model_module": "@jupyter-widgets/base",
      "model_module_version": "1.2.0",
      "model_name": "LayoutModel",
      "state": {}
     },
     "92278b0b3be5467d9c3f09c239d37093": {
      "model_module": "@jupyter-widgets/base",
      "model_module_version": "1.2.0",
      "model_name": "LayoutModel",
      "state": {}
     },
     "94cc1b0b333848df97fa3b090d52268e": {
      "model_module": "@jupyter-widgets/base",
      "model_module_version": "1.2.0",
      "model_name": "LayoutModel",
      "state": {}
     },
     "965f58efb3f246609d5eddb8ec3fce42": {
      "model_module": "@jupyter-widgets/controls",
      "model_module_version": "1.5.0",
      "model_name": "DescriptionStyleModel",
      "state": {
       "description_width": ""
      }
     },
     "96bbf1e7abd84f1585448abb41576151": {
      "model_module": "@jupyter-widgets/controls",
      "model_module_version": "1.5.0",
      "model_name": "ProgressStyleModel",
      "state": {
       "description_width": "initial"
      }
     },
     "9827ccdb97b84bfab47f8f5dce110b60": {
      "model_module": "@jupyter-widgets/controls",
      "model_module_version": "1.5.0",
      "model_name": "IntProgressModel",
      "state": {
       "bar_style": "danger",
       "description": "  0%",
       "layout": "IPY_MODEL_d2a83ddbc3ce4f1badf6ad0426eeeb2d",
       "max": 201,
       "style": "IPY_MODEL_ac43b0acf53a422299370e1bd1054e3e"
      }
     },
     "99b4852a7c264578bba6e6959717947a": {
      "model_module": "@jupyter-widgets/base",
      "model_module_version": "1.2.0",
      "model_name": "LayoutModel",
      "state": {}
     },
     "9abeedc6bfbe4a93bccd62bfbb77f6a5": {
      "model_module": "@jupyter-widgets/base",
      "model_module_version": "1.2.0",
      "model_name": "LayoutModel",
      "state": {}
     },
     "9b5859dfb8954273b89d05710b04db6f": {
      "model_module": "@jupyter-widgets/controls",
      "model_module_version": "1.5.0",
      "model_name": "HTMLModel",
      "state": {
       "layout": "IPY_MODEL_a7e0ab4402794bf9bd89cbe09698fc61",
       "style": "IPY_MODEL_306ee86f7cbb418f9c87808c3040aa4c",
       "value": " 0/201 [00:01&lt;?, ?it/s]"
      }
     },
     "9c6a8f581c184b9dbe639f0eae64630d": {
      "model_module": "@jupyter-widgets/base",
      "model_module_version": "1.2.0",
      "model_name": "LayoutModel",
      "state": {}
     },
     "a072e5f4714e4ad08bca94fd9c5e4a11": {
      "model_module": "@jupyter-widgets/controls",
      "model_module_version": "1.5.0",
      "model_name": "DescriptionStyleModel",
      "state": {
       "description_width": ""
      }
     },
     "a3a179a543354239ab7d4eb5102f260b": {
      "model_module": "@jupyter-widgets/base",
      "model_module_version": "1.2.0",
      "model_name": "LayoutModel",
      "state": {}
     },
     "a595c6b035ec46b1902486049a7ceea3": {
      "model_module": "@jupyter-widgets/controls",
      "model_module_version": "1.5.0",
      "model_name": "HTMLModel",
      "state": {
       "layout": "IPY_MODEL_b5e509b83af04317bef869d781cce116",
       "style": "IPY_MODEL_059996785f874aae8f1e215faa329796",
       "value": " 201/201 [1:08:35&lt;00:00, 20.47s/it]"
      }
     },
     "a5a5286a86c04ebc971069450a31decc": {
      "model_module": "@jupyter-widgets/controls",
      "model_module_version": "1.5.0",
      "model_name": "HBoxModel",
      "state": {
       "children": [
        "IPY_MODEL_66048350f99543aba4ace682248fac48",
        "IPY_MODEL_3b899db11105493387927a65d2f4863e"
       ],
       "layout": "IPY_MODEL_a741685b04144d11b481b1a7731d11ca"
      }
     },
     "a5aa776babe445edbc0ad3b3d419504d": {
      "model_module": "@jupyter-widgets/controls",
      "model_module_version": "1.5.0",
      "model_name": "HTMLModel",
      "state": {
       "layout": "IPY_MODEL_cfd03c45613843678cc9779394026079",
       "style": "IPY_MODEL_a072e5f4714e4ad08bca94fd9c5e4a11",
       "value": " 0/201 [00:02&lt;?, ?it/s]"
      }
     },
     "a5fa8ac6b0ce4083afa46fc73deb9e09": {
      "model_module": "@jupyter-widgets/base",
      "model_module_version": "1.2.0",
      "model_name": "LayoutModel",
      "state": {}
     },
     "a741685b04144d11b481b1a7731d11ca": {
      "model_module": "@jupyter-widgets/base",
      "model_module_version": "1.2.0",
      "model_name": "LayoutModel",
      "state": {}
     },
     "a7e0ab4402794bf9bd89cbe09698fc61": {
      "model_module": "@jupyter-widgets/base",
      "model_module_version": "1.2.0",
      "model_name": "LayoutModel",
      "state": {}
     },
     "a88dcdc188a84fc2b685952164fc73fa": {
      "model_module": "@jupyter-widgets/controls",
      "model_module_version": "1.5.0",
      "model_name": "DescriptionStyleModel",
      "state": {
       "description_width": ""
      }
     },
     "ac02cf2c3360404d8b00c364eec11204": {
      "model_module": "@jupyter-widgets/base",
      "model_module_version": "1.2.0",
      "model_name": "LayoutModel",
      "state": {}
     },
     "ac43b0acf53a422299370e1bd1054e3e": {
      "model_module": "@jupyter-widgets/controls",
      "model_module_version": "1.5.0",
      "model_name": "ProgressStyleModel",
      "state": {
       "description_width": "initial"
      }
     },
     "afeea4a1763d457698c2c3294e95ea58": {
      "model_module": "@jupyter-widgets/base",
      "model_module_version": "1.2.0",
      "model_name": "LayoutModel",
      "state": {}
     },
     "b2209d5a1226406d8512db30480a3844": {
      "model_module": "@jupyter-widgets/base",
      "model_module_version": "1.2.0",
      "model_name": "LayoutModel",
      "state": {}
     },
     "b34ce9103d414829a2891fcd13618dd3": {
      "model_module": "@jupyter-widgets/controls",
      "model_module_version": "1.5.0",
      "model_name": "HBoxModel",
      "state": {
       "children": [
        "IPY_MODEL_e6b24c894c98444c8d981c606e58fc27",
        "IPY_MODEL_9b5859dfb8954273b89d05710b04db6f"
       ],
       "layout": "IPY_MODEL_dd65c304a0c548e2a2ae0a023a1265be"
      }
     },
     "b4e3edc1841a45118a95b07fee888cf4": {
      "model_module": "@jupyter-widgets/base",
      "model_module_version": "1.2.0",
      "model_name": "LayoutModel",
      "state": {}
     },
     "b5e509b83af04317bef869d781cce116": {
      "model_module": "@jupyter-widgets/base",
      "model_module_version": "1.2.0",
      "model_name": "LayoutModel",
      "state": {}
     },
     "b81f4dba8ae6454fbc03373f1a0ca7e5": {
      "model_module": "@jupyter-widgets/base",
      "model_module_version": "1.2.0",
      "model_name": "LayoutModel",
      "state": {}
     },
     "bb63f925a34345e892e7595c0cfae40d": {
      "model_module": "@jupyter-widgets/controls",
      "model_module_version": "1.5.0",
      "model_name": "ProgressStyleModel",
      "state": {
       "description_width": "initial"
      }
     },
     "bcdba1051f054d0ab5085d79454372c9": {
      "model_module": "@jupyter-widgets/base",
      "model_module_version": "1.2.0",
      "model_name": "LayoutModel",
      "state": {}
     },
     "be862ec9fc97460ebc3189940f004c98": {
      "model_module": "@jupyter-widgets/controls",
      "model_module_version": "1.5.0",
      "model_name": "DescriptionStyleModel",
      "state": {
       "description_width": ""
      }
     },
     "bf1fe203168040c59e15d6e1d2bbfdec": {
      "model_module": "@jupyter-widgets/controls",
      "model_module_version": "1.5.0",
      "model_name": "IntProgressModel",
      "state": {
       "bar_style": "danger",
       "description": "  0%",
       "layout": "IPY_MODEL_12e1cf2bbad045a5af86f73ecba3af82",
       "max": 201,
       "style": "IPY_MODEL_2ccd32958ad349e29d5eef1d67aa1727"
      }
     },
     "c05c31990d5b43308a92108c0bae873c": {
      "model_module": "@jupyter-widgets/controls",
      "model_module_version": "1.5.0",
      "model_name": "ProgressStyleModel",
      "state": {
       "description_width": "initial"
      }
     },
     "c12192d12c3d4e32a651753186ec4824": {
      "model_module": "@jupyter-widgets/controls",
      "model_module_version": "1.5.0",
      "model_name": "HTMLModel",
      "state": {
       "layout": "IPY_MODEL_8f56658bd47844ba8dc6ac4569588d87",
       "style": "IPY_MODEL_3aecfb7a1d00446485ed2a13c7780c4f",
       "value": " 0/201 [00:01&lt;?, ?it/s]"
      }
     },
     "c19104a3115c4d93bb91528ac2cda577": {
      "model_module": "@jupyter-widgets/controls",
      "model_module_version": "1.5.0",
      "model_name": "IntProgressModel",
      "state": {
       "bar_style": "danger",
       "description": "  0%",
       "layout": "IPY_MODEL_2c23f9fee6cb46bfb58f48877b319fde",
       "max": 201,
       "style": "IPY_MODEL_8f2cdd04317f48ea91294ab7f5ec403d"
      }
     },
     "c6b72540d95042d4995f662b1b85deb7": {
      "model_module": "@jupyter-widgets/base",
      "model_module_version": "1.2.0",
      "model_name": "LayoutModel",
      "state": {}
     },
     "c90b969c445f435894380b9b1e4f75a2": {
      "model_module": "@jupyter-widgets/controls",
      "model_module_version": "1.5.0",
      "model_name": "DescriptionStyleModel",
      "state": {
       "description_width": ""
      }
     },
     "cd27966d2d274afc814bd405694a9b1f": {
      "model_module": "@jupyter-widgets/base",
      "model_module_version": "1.2.0",
      "model_name": "LayoutModel",
      "state": {}
     },
     "ce0a418e46ba42f8a7ee1dd1a117f419": {
      "model_module": "@jupyter-widgets/controls",
      "model_module_version": "1.5.0",
      "model_name": "IntProgressModel",
      "state": {
       "bar_style": "danger",
       "description": "  0%",
       "layout": "IPY_MODEL_99b4852a7c264578bba6e6959717947a",
       "max": 201,
       "style": "IPY_MODEL_00326fd447ac46e99e59e0ed3b4089b9"
      }
     },
     "cfb12677e48c4103b5fd771335cfdff4": {
      "model_module": "@jupyter-widgets/base",
      "model_module_version": "1.2.0",
      "model_name": "LayoutModel",
      "state": {}
     },
     "cfc0c7ecbb0d427d9b959644078dd6e7": {
      "model_module": "@jupyter-widgets/controls",
      "model_module_version": "1.5.0",
      "model_name": "DescriptionStyleModel",
      "state": {
       "description_width": ""
      }
     },
     "cfd03c45613843678cc9779394026079": {
      "model_module": "@jupyter-widgets/base",
      "model_module_version": "1.2.0",
      "model_name": "LayoutModel",
      "state": {}
     },
     "d0d41354ab2f4413acac60bc45d98eec": {
      "model_module": "@jupyter-widgets/controls",
      "model_module_version": "1.5.0",
      "model_name": "HTMLModel",
      "state": {
       "layout": "IPY_MODEL_7f17cc16b3604808a8646507717876e2",
       "style": "IPY_MODEL_28344c17c7a541b8b0d60fe484af7722",
       "value": " 0/201 [00:02&lt;?, ?it/s]"
      }
     },
     "d2a83ddbc3ce4f1badf6ad0426eeeb2d": {
      "model_module": "@jupyter-widgets/base",
      "model_module_version": "1.2.0",
      "model_name": "LayoutModel",
      "state": {}
     },
     "d49f24d32ab34c8aa33d6e0cefe442bc": {
      "model_module": "@jupyter-widgets/controls",
      "model_module_version": "1.5.0",
      "model_name": "HBoxModel",
      "state": {
       "children": [
        "IPY_MODEL_da758435dd6d472f85956c9093e93f0b",
        "IPY_MODEL_379ec375a0e34ad5a9713d67691500f5"
       ],
       "layout": "IPY_MODEL_34a7ed82bdff4cd1a9e70485fa09597b"
      }
     },
     "da758435dd6d472f85956c9093e93f0b": {
      "model_module": "@jupyter-widgets/controls",
      "model_module_version": "1.5.0",
      "model_name": "IntProgressModel",
      "state": {
       "bar_style": "danger",
       "description": "  0%",
       "layout": "IPY_MODEL_f6439804c8904717b1f1996a1ee4e3d4",
       "max": 201,
       "style": "IPY_MODEL_73f3056fb3e54f8c9ff79aff51dba89e"
      }
     },
     "da7dce5391ed4d869850d4a90bf71072": {
      "model_module": "@jupyter-widgets/controls",
      "model_module_version": "1.5.0",
      "model_name": "ProgressStyleModel",
      "state": {
       "description_width": "initial"
      }
     },
     "dab9dc658dd7457f8097bcb13d3f8680": {
      "model_module": "@jupyter-widgets/controls",
      "model_module_version": "1.5.0",
      "model_name": "IntProgressModel",
      "state": {
       "bar_style": "success",
       "description": "100%",
       "layout": "IPY_MODEL_a3a179a543354239ab7d4eb5102f260b",
       "max": 201,
       "style": "IPY_MODEL_ea61d207da514a1098ab957613dd7b06",
       "value": 201
      }
     },
     "dbd8e1be204b4c0181f3e24b25cd5d1b": {
      "model_module": "@jupyter-widgets/controls",
      "model_module_version": "1.5.0",
      "model_name": "DescriptionStyleModel",
      "state": {
       "description_width": ""
      }
     },
     "dd65c304a0c548e2a2ae0a023a1265be": {
      "model_module": "@jupyter-widgets/base",
      "model_module_version": "1.2.0",
      "model_name": "LayoutModel",
      "state": {}
     },
     "df1b355147424c6f882a425af3fc8862": {
      "model_module": "@jupyter-widgets/controls",
      "model_module_version": "1.5.0",
      "model_name": "HTMLModel",
      "state": {
       "layout": "IPY_MODEL_a5fa8ac6b0ce4083afa46fc73deb9e09",
       "style": "IPY_MODEL_519bc62f2e774c8795a85e5af2b4bad6",
       "value": " 0/201 [00:02&lt;?, ?it/s]"
      }
     },
     "e285095a9902442d8cc6dcfa3b2aca76": {
      "model_module": "@jupyter-widgets/controls",
      "model_module_version": "1.5.0",
      "model_name": "HBoxModel",
      "state": {
       "children": [
        "IPY_MODEL_c19104a3115c4d93bb91528ac2cda577",
        "IPY_MODEL_31bb48384ad0410bb32790817c29cb83"
       ],
       "layout": "IPY_MODEL_14da18d8ccc645c496ac0a8ffb2c5736"
      }
     },
     "e5ad57f9254441d0be9cca6e42074c10": {
      "model_module": "@jupyter-widgets/base",
      "model_module_version": "1.2.0",
      "model_name": "LayoutModel",
      "state": {}
     },
     "e69d8d3dca7348da8031250ef0fce7f2": {
      "model_module": "@jupyter-widgets/controls",
      "model_module_version": "1.5.0",
      "model_name": "HBoxModel",
      "state": {
       "children": [
        "IPY_MODEL_bf1fe203168040c59e15d6e1d2bbfdec",
        "IPY_MODEL_d0d41354ab2f4413acac60bc45d98eec"
       ],
       "layout": "IPY_MODEL_521a0403d596498b9a05b5d9401fbd10"
      }
     },
     "e6b24c894c98444c8d981c606e58fc27": {
      "model_module": "@jupyter-widgets/controls",
      "model_module_version": "1.5.0",
      "model_name": "IntProgressModel",
      "state": {
       "bar_style": "danger",
       "description": "  0%",
       "layout": "IPY_MODEL_9c6a8f581c184b9dbe639f0eae64630d",
       "max": 201,
       "style": "IPY_MODEL_96bbf1e7abd84f1585448abb41576151"
      }
     },
     "e9c3121300564ca3ad7522f8bd4d3cf6": {
      "model_module": "@jupyter-widgets/controls",
      "model_module_version": "1.5.0",
      "model_name": "HTMLModel",
      "state": {
       "layout": "IPY_MODEL_eca0831ce7fb46f094405f2a19e42cf5",
       "style": "IPY_MODEL_dbd8e1be204b4c0181f3e24b25cd5d1b",
       "value": " 201/201 [03:26&lt;00:00,  1.02s/it]"
      }
     },
     "ea61d207da514a1098ab957613dd7b06": {
      "model_module": "@jupyter-widgets/controls",
      "model_module_version": "1.5.0",
      "model_name": "ProgressStyleModel",
      "state": {
       "description_width": "initial"
      }
     },
     "eb34e14ee64e46ca939eabdc66e31d97": {
      "model_module": "@jupyter-widgets/base",
      "model_module_version": "1.2.0",
      "model_name": "LayoutModel",
      "state": {}
     },
     "eca0831ce7fb46f094405f2a19e42cf5": {
      "model_module": "@jupyter-widgets/base",
      "model_module_version": "1.2.0",
      "model_name": "LayoutModel",
      "state": {}
     },
     "ef15938af26f44babab2771dfd87c674": {
      "model_module": "@jupyter-widgets/controls",
      "model_module_version": "1.5.0",
      "model_name": "HBoxModel",
      "state": {
       "children": [
        "IPY_MODEL_67217401a9c54fbe9e6ac3267af897fd",
        "IPY_MODEL_efbdb423053b48708efa91cdbfaa2e2c"
       ],
       "layout": "IPY_MODEL_45b1e1a9fc3e475c9752ca01067c9b3e"
      }
     },
     "efbdb423053b48708efa91cdbfaa2e2c": {
      "model_module": "@jupyter-widgets/controls",
      "model_module_version": "1.5.0",
      "model_name": "HTMLModel",
      "state": {
       "layout": "IPY_MODEL_bcdba1051f054d0ab5085d79454372c9",
       "style": "IPY_MODEL_c90b969c445f435894380b9b1e4f75a2",
       "value": " 0/201 [00:03&lt;?, ?it/s]"
      }
     },
     "f03095ab88ab4ba48b453d8792f3dcf7": {
      "model_module": "@jupyter-widgets/controls",
      "model_module_version": "1.5.0",
      "model_name": "HBoxModel",
      "state": {
       "children": [
        "IPY_MODEL_ce0a418e46ba42f8a7ee1dd1a117f419",
        "IPY_MODEL_2771226bc2d0496da200fd459f882c0f"
       ],
       "layout": "IPY_MODEL_8cf6790a8a7d4d288bb10d673be897e7"
      }
     },
     "f5ed596686c349729771a37ff0104ddc": {
      "model_module": "@jupyter-widgets/controls",
      "model_module_version": "1.5.0",
      "model_name": "HTMLModel",
      "state": {
       "layout": "IPY_MODEL_685a2fb580ed460ca10a93782d4fd60c",
       "style": "IPY_MODEL_965f58efb3f246609d5eddb8ec3fce42",
       "value": " 0/201 [00:02&lt;?, ?it/s]"
      }
     },
     "f6439804c8904717b1f1996a1ee4e3d4": {
      "model_module": "@jupyter-widgets/base",
      "model_module_version": "1.2.0",
      "model_name": "LayoutModel",
      "state": {}
     },
     "f7bc5e90e1f44d219dd185f7e3047598": {
      "model_module": "@jupyter-widgets/controls",
      "model_module_version": "1.5.0",
      "model_name": "HTMLModel",
      "state": {
       "layout": "IPY_MODEL_8717600a03c74edc9bb0915221c0bdf2",
       "style": "IPY_MODEL_25b3809f94954e5a820dad27625a5d47",
       "value": " 0/201 [00:02&lt;?, ?it/s]"
      }
     },
     "fca90471fd964320912d3f54845f31cc": {
      "model_module": "@jupyter-widgets/controls",
      "model_module_version": "1.5.0",
      "model_name": "IntProgressModel",
      "state": {
       "bar_style": "success",
       "description": "100%",
       "layout": "IPY_MODEL_cd27966d2d274afc814bd405694a9b1f",
       "max": 201,
       "style": "IPY_MODEL_820d06ec7dd348e782a695c6501068ff",
       "value": 201
      }
     },
     "fd9cf0b8d7464b29a6ba03ca05fd35be": {
      "model_module": "@jupyter-widgets/base",
      "model_module_version": "1.2.0",
      "model_name": "LayoutModel",
      "state": {}
     }
    },
    "version_major": 2,
    "version_minor": 0
   }
  }
 },
 "nbformat": 4,
 "nbformat_minor": 4
}
