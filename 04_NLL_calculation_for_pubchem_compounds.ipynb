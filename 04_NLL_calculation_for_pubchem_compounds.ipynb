{
 "cells": [
  {
   "cell_type": "code",
   "execution_count": 1,
   "metadata": {},
   "outputs": [],
   "source": [
    "import sys\n",
    "sys.path.append(\"reinvent/\")"
   ]
  },
  {
   "cell_type": "code",
   "execution_count": 2,
   "metadata": {},
   "outputs": [],
   "source": [
    "#import os\n",
    "#os.environ['CUDA_LAUNCH_BLOCKING'] = \"1\""
   ]
  },
  {
   "cell_type": "code",
   "execution_count": 3,
   "metadata": {},
   "outputs": [
    {
     "name": "stdout",
     "output_type": "stream",
     "text": [
      "GPU is used\n"
     ]
    },
    {
     "name": "stderr",
     "output_type": "stream",
     "text": [
      "RDKit WARNING: [14:31:56] Enabling RDKit 2019.09.1 jupyter extensions\n"
     ]
    }
   ],
   "source": [
    "import pandas as pd\n",
    "import numpy as np \n",
    "import scipy.stats as sps\n",
    "from tqdm import tqdm, trange\n",
    "from models import dataset\n",
    "from models.model import Model\n",
    "from utils.smiles import standardize_smiles\n",
    "import utils.general\n",
    "\n",
    "if utils.general.set_default_device_cuda():\n",
    "    print(\"GPU is used\")\n",
    "else:\n",
    "    print(\"Using CPU\")\n",
    "    "
   ]
  },
  {
   "cell_type": "code",
   "execution_count": 4,
   "metadata": {},
   "outputs": [],
   "source": [
    "data = pd.read_csv(\"data/pubchem_assay_compounds_processed.tsv\", sep='\\t')"
   ]
  },
  {
   "cell_type": "code",
   "execution_count": 5,
   "metadata": {},
   "outputs": [
    {
     "name": "stderr",
     "output_type": "stream",
     "text": [
      "100%|██████████| 201/201 [1:21:06<00:00, 24.21s/it]\n"
     ]
    }
   ],
   "source": [
    "from glob import glob\n",
    "\n",
    "calculation = len(data)*200\n",
    "for i in tqdm(range(0,201)):\n",
    "    if i == 0:\n",
    "        agent = f\"reinvent/data/augmented.prior\"\n",
    "    elif i == 200: \n",
    "        agent = f\"output/focused.agent\"\n",
    "    else:\n",
    "        agent = f\"output/focused.agent.{i}\"\n",
    "    focused_agent = Model.load_from_file(agent)\n",
    "    utils.general.set_seed(1234567890)\n",
    "    def get_nlls():\n",
    "        generator, length = dataset.calculate_nlls_from_model(focused_agent, data[\"rdkit_smiles\"].to_list(), batch_size=250)\n",
    "        nlls = []\n",
    "        for nll in generator:\n",
    "            nlls.append(nll)\n",
    "        return  np.hstack(nlls)\n",
    "\n",
    "    data[f\"NLL_{i}\"] = get_nlls()\n",
    "    if i % 50 == 0:\n",
    "        data.to_csv(f\"output/promiscuous_processed_{i}.csv\", index=False)\n",
    "data.to_csv(f\"output/promiscuous_processed.csv\", index=False)\n"
   ]
  }
 ],
 "metadata": {
  "kernelspec": {
   "display_name": "Python 3",
   "language": "python",
   "name": "python3"
  },
  "language_info": {
   "codemirror_mode": {
    "name": "ipython",
    "version": 3
   },
   "file_extension": ".py",
   "mimetype": "text/x-python",
   "name": "python",
   "nbconvert_exporter": "python",
   "pygments_lexer": "ipython3",
   "version": "3.6.5"
  },
  "widgets": {
   "application/vnd.jupyter.widget-state+json": {
    "state": {},
    "version_major": 2,
    "version_minor": 0
   }
  }
 },
 "nbformat": 4,
 "nbformat_minor": 4
}
