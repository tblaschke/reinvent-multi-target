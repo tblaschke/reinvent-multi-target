{
 "cells": [
  {
   "cell_type": "code",
   "execution_count": 1,
   "metadata": {},
   "outputs": [],
   "source": [
    "import sys\n",
    "sys.path.append(\"reinvent/\")"
   ]
  },
  {
   "cell_type": "code",
   "execution_count": 2,
   "metadata": {},
   "outputs": [],
   "source": [
    "#import os\n",
    "#os.environ['CUDA_LAUNCH_BLOCKING'] = \"1\""
   ]
  },
  {
   "cell_type": "code",
   "execution_count": 3,
   "metadata": {},
   "outputs": [
    {
     "name": "stderr",
     "output_type": "stream",
     "text": [
      "RDKit WARNING: [12:43:34] Enabling RDKit 2019.09.1 jupyter extensions\n"
     ]
    }
   ],
   "source": [
    "import pandas as pd\n",
    "import numpy as np \n",
    "import scipy.stats as sps\n",
    "from tqdm.auto import tqdm, trange\n",
    "from models import dataset\n",
    "from models.model import Model\n",
    "from utils.smiles import standardize_smiles"
   ]
  },
  {
   "cell_type": "code",
   "execution_count": 4,
   "metadata": {},
   "outputs": [],
   "source": [
    "# load dependencies\n",
    "import os\n",
    "import re\n",
    "import json\n",
    "import tempfile\n",
    "\n",
    "# --------- change these path variables as required\n",
    "reinvent_dir = os.path.expanduser(\"***CHANGE ME PROJECT PATH ROOT FOLDER***/reinvent\")\n",
    "output_dir = os.path.expanduser(\"***CHANGE ME PROJECT PATH ROOT FOLDER***/output\")\n",
    "\n",
    "# --------- do not change\n",
    "# get the notebook's root path\n",
    "try: ipynb_path\n",
    "except NameError: ipynb_path = os.getcwd()\n",
    "# if required, generate a folder to store the results\n",
    "os.makedirs(output_dir, exist_ok=True)\n",
    "\n",
    "\n",
    "configuration = {\n",
    "    \"version\": 2,                          # we are going to use REINVENT's newest release\n",
    "    \"run_type\": \"transfer_learning\",        # other run types: \"scoring\", \"validation\",\n",
    "                                           #                  \"transfer_learning\",\n",
    "                                           #                  \"reinforcement_learning\" and\n",
    "                                           #                  \"create_model\"\n",
    "   \"seed\": 1234\n",
    "}\n",
    "configuration[\"logging\"] = {\n",
    "    \"sender\": \"http://127.0.0.1\",          # only relevant if \"recipient\" is set to \"remote\"\n",
    "    \"recipient\": \"local\",                  # either to local logging or use a remote REST-interface\n",
    "    \"logging_path\": os.path.join(output_dir, \"progress.log\"), # where the run's output is stored\n",
    "    \"job_name\": \"Transfer Learning Promiscuous Compounds\", # set an arbitrary job name for identification\n",
    "    \"job_id\": \"na\"                       # only relevant if \"recipient\" is set to \"remote\"\n",
    "}\n",
    "adaptive_lr_config = {\n",
    "      \"mode\": \"constant\", # other modes: \"exponential\", \"adaptive\", \"constant\"\n",
    "      \"gamma\": 0.8,\n",
    "      \"step\": 1,\n",
    "      \"start\": 1E-4,\n",
    "      \"min\": 1E-5,\n",
    "      \"threshold\": 1E-4,\n",
    "      \"average_steps\": 4,\n",
    "      \"patience\": 8,\n",
    "      \"restart_value\": 1E-5,\n",
    "      \"sample_size\": 1000,\n",
    "      \"restart_times\": 0\n",
    "    }\n",
    "output_model_path = os.path.join(output_dir, \"focused.agent\") \\\n",
    "# The final focused agent will be named \"focused.agent\"\n",
    "# The intermediate steps will be named \"focused.agent.1\", \"focused.agent.2\", \"focused.agent.3\" and etc.\n",
    "\n",
    "# add the \"parameters\" block\n",
    "configuration[\"parameters\"] = {\n",
    "    \"input_model_path\": os.path.join(reinvent_dir,        # path to prior or trained agent\n",
    "                               \"data\",\n",
    "                               \"augmented.prior\"),\n",
    "    \"output_model_path\": output_model_path,                # location to store the focused agent\n",
    "    \"input_smiles_path\": os.path.join(ipynb_path,\n",
    "                               \"data\",\n",
    "                               \"pubchem_assay_compounds_processed_training.smi\"),\n",
    "    \"save_every_n_epochs\": 1,      # how often to save the focused Agent. Here its stored after each epoch\n",
    "    \"batch_size\": 100,             # batch size the input data\n",
    "    \"num_epochs\": 200,              # number of epochs to focus the agent for\n",
    "    \"standardize\": True,           # the input may contain SMILES strings that are invalid according to the agent\n",
    "                                   # this atempts to clean up the input dataset\n",
    "    \"randomize\": True,             # this triggers data augmentation which is quite important for small datasets\n",
    "    \"adaptive_lr_config\": adaptive_lr_config,        # setting the learning rate behavior\n",
    "    \"collect_stats_frequency\": 99999999\n",
    "}\n",
    "configuration_JSON_path = os.path.join(output_dir, \"transfer_learning_config.json\")\n",
    "with open(configuration_JSON_path, 'w') as f:\n",
    "    json.dump(configuration, f, indent=4, sort_keys=True)"
   ]
  },
  {
   "cell_type": "code",
   "execution_count": 5,
   "metadata": {},
   "outputs": [],
   "source": [
    "%%capture captured_err_stream --no-stderr\n",
    "\n",
    "# execute REINVENT from the command-line\n",
    "!python {reinvent_dir}/input.py {configuration_JSON_path}"
   ]
  },
  {
   "cell_type": "code",
   "execution_count": 6,
   "metadata": {},
   "outputs": [],
   "source": [
    "# print the output to a file, just to have it for documentation\n",
    "with open(os.path.join(output_dir, \"run.err\"), 'w') as file:\n",
    "    file.write(captured_err_stream.stdout)"
   ]
  }
 ],
 "metadata": {
  "kernelspec": {
   "display_name": "Python 3",
   "language": "python",
   "name": "python3"
  },
  "language_info": {
   "codemirror_mode": {
    "name": "ipython",
    "version": 3
   },
   "file_extension": ".py",
   "mimetype": "text/x-python",
   "name": "python",
   "nbconvert_exporter": "python",
   "pygments_lexer": "ipython3",
   "version": "3.6.5"
  },
  "widgets": {
   "application/vnd.jupyter.widget-state+json": {
    "state": {},
    "version_major": 2,
    "version_minor": 0
   }
  }
 },
 "nbformat": 4,
 "nbformat_minor": 4
}
