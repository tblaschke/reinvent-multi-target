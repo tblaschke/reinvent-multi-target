{
 "cells": [
  {
   "cell_type": "code",
   "execution_count": 1,
   "metadata": {},
   "outputs": [],
   "source": [
    "#%config InlineBackend.figure_formats = ['svg']\n",
    "%config InlineBackend.figure_format = 'retina'\n",
    "import pandas as pd \n",
    "import matplotlib.pyplot as plt\n",
    "import numpy as np\n",
    "import seaborn as sns\n",
    "import os\n",
    "from tqdm.auto import tqdm\n",
    "from pandarallel import pandarallel"
   ]
  },
  {
   "cell_type": "code",
   "execution_count": 2,
   "metadata": {},
   "outputs": [
    {
     "name": "stdout",
     "output_type": "stream",
     "text": [
      "INFO: Pandarallel will run on 8 workers.\n",
      "INFO: Pandarallel will use standard multiprocessing data transfer (pipe) to transfer data between the main process and workers.\n"
     ]
    }
   ],
   "source": [
    "pandarallel.initialize(progress_bar=False, nb_workers=8)"
   ]
  },
  {
   "cell_type": "code",
   "execution_count": 3,
   "metadata": {},
   "outputs": [],
   "source": [
    "from rdkit import Chem \n",
    "from rdkit.Chem import Scaffolds\n",
    "from rdkit.Chem.Scaffolds.MurckoScaffold import GetScaffoldForMol, MakeScaffoldGeneric\n",
    "\n",
    "def generate_scaffolds(smiles :str) -> (str , str):\n",
    "    murcko_smi = \"\"\n",
    "    carbon_smi = \"\"\n",
    "    if smiles:\n",
    "        try:\n",
    "            mol = Chem.MolFromSmiles(smiles)\n",
    "            if mol:\n",
    "                murcko_mol = GetScaffoldForMol(mol)\n",
    "                carbon_mol = MakeScaffoldGeneric(murcko_mol)\n",
    "                murcko_smi = Chem.MolToSmiles(murcko_mol)\n",
    "                carbon_smi = Chem.MolToSmiles(carbon_mol)\n",
    "        except:\n",
    "            pass\n",
    "    return murcko_smi, carbon_smi"
   ]
  },
  {
   "cell_type": "code",
   "execution_count": 4,
   "metadata": {},
   "outputs": [],
   "source": [
    "def read_npz(file):\n",
    "    file = np.load(file)\n",
    "    if \"arr_0\" in file:\n",
    "        fp = file[\"arr_0\"]\n",
    "    else:\n",
    "        fp = file[\"fps\"]\n",
    "    file.close()\n",
    "    fp = np.unpackbits(fp, axis=1)\n",
    "    return fp"
   ]
  },
  {
   "cell_type": "code",
   "execution_count": 5,
   "metadata": {},
   "outputs": [],
   "source": [
    "experiment = \"output\""
   ]
  },
  {
   "cell_type": "code",
   "execution_count": 6,
   "metadata": {},
   "outputs": [],
   "source": [
    "#colors = \"Set1\"\n",
    "colors = sns.color_palette([\"gray\", \"royalblue\", \"limegreen\", \"fuchsia\"])"
   ]
  },
  {
   "cell_type": "code",
   "execution_count": 7,
   "metadata": {},
   "outputs": [],
   "source": [
    "all_data = pd.read_csv(f\"{experiment}/promiscuous_processed.csv\")\n",
    "all_data[\"class_set\"] = all_data[[\"class\",\"set\"]].apply(lambda x: ' '.join(x), axis=1)"
   ]
  },
  {
   "cell_type": "code",
   "execution_count": 8,
   "metadata": {},
   "outputs": [
    {
     "data": {
      "text/html": [
       "<div>\n",
       "<style scoped>\n",
       "    .dataframe tbody tr th:only-of-type {\n",
       "        vertical-align: middle;\n",
       "    }\n",
       "\n",
       "    .dataframe tbody tr th {\n",
       "        vertical-align: top;\n",
       "    }\n",
       "\n",
       "    .dataframe thead th {\n",
       "        text-align: right;\n",
       "    }\n",
       "</style>\n",
       "<table border=\"1\" class=\"dataframe\">\n",
       "  <thead>\n",
       "    <tr style=\"text-align: right;\">\n",
       "      <th></th>\n",
       "      <th>cids</th>\n",
       "      <th>NostereoAromaticSMILES</th>\n",
       "      <th>rdkit_smiles</th>\n",
       "      <th>class</th>\n",
       "      <th>set</th>\n",
       "      <th>inactive</th>\n",
       "      <th>active</th>\n",
       "      <th>encodable</th>\n",
       "      <th>NLL_0</th>\n",
       "      <th>NLL_1</th>\n",
       "      <th>...</th>\n",
       "      <th>NLL_192</th>\n",
       "      <th>NLL_193</th>\n",
       "      <th>NLL_194</th>\n",
       "      <th>NLL_195</th>\n",
       "      <th>NLL_196</th>\n",
       "      <th>NLL_197</th>\n",
       "      <th>NLL_198</th>\n",
       "      <th>NLL_199</th>\n",
       "      <th>NLL_200</th>\n",
       "      <th>class_set</th>\n",
       "    </tr>\n",
       "  </thead>\n",
       "  <tbody>\n",
       "    <tr>\n",
       "      <th>0</th>\n",
       "      <td>1483729</td>\n",
       "      <td>C#CCN1c2ccccc2Sc3c1nccc3</td>\n",
       "      <td>C#CCN1c2ccccc2Sc2cccnc21</td>\n",
       "      <td>multitarget</td>\n",
       "      <td>training</td>\n",
       "      <td>174</td>\n",
       "      <td>6</td>\n",
       "      <td>True</td>\n",
       "      <td>21.387634</td>\n",
       "      <td>21.237390</td>\n",
       "      <td>...</td>\n",
       "      <td>16.529953</td>\n",
       "      <td>16.579832</td>\n",
       "      <td>16.597193</td>\n",
       "      <td>16.598688</td>\n",
       "      <td>16.543293</td>\n",
       "      <td>16.469414</td>\n",
       "      <td>16.514149</td>\n",
       "      <td>16.565979</td>\n",
       "      <td>16.504505</td>\n",
       "      <td>multitarget training</td>\n",
       "    </tr>\n",
       "    <tr>\n",
       "      <th>1</th>\n",
       "      <td>2803060</td>\n",
       "      <td>C#CCSc1c(c(sn1)SCC#C)C#N</td>\n",
       "      <td>C#CCSc1nsc(SCC#C)c1C#N</td>\n",
       "      <td>multitarget</td>\n",
       "      <td>training</td>\n",
       "      <td>244</td>\n",
       "      <td>6</td>\n",
       "      <td>True</td>\n",
       "      <td>25.435406</td>\n",
       "      <td>25.543407</td>\n",
       "      <td>...</td>\n",
       "      <td>16.977541</td>\n",
       "      <td>17.072138</td>\n",
       "      <td>17.067848</td>\n",
       "      <td>17.018055</td>\n",
       "      <td>16.830230</td>\n",
       "      <td>16.742233</td>\n",
       "      <td>16.677542</td>\n",
       "      <td>16.708557</td>\n",
       "      <td>16.730461</td>\n",
       "      <td>multitarget training</td>\n",
       "    </tr>\n",
       "    <tr>\n",
       "      <th>2</th>\n",
       "      <td>16195846</td>\n",
       "      <td>C#Cc1ccc(cc1)C2CC(OC(=C2)C(=O)N3CCN(CC3)Cc4ccc...</td>\n",
       "      <td>C#Cc1ccc(C2C=C(C(=O)N3CCN(Cc4ccccc4)CC3)OC(OCC...</td>\n",
       "      <td>multitarget</td>\n",
       "      <td>training</td>\n",
       "      <td>151</td>\n",
       "      <td>6</td>\n",
       "      <td>True</td>\n",
       "      <td>26.490920</td>\n",
       "      <td>26.334568</td>\n",
       "      <td>...</td>\n",
       "      <td>20.697884</td>\n",
       "      <td>20.671890</td>\n",
       "      <td>20.672901</td>\n",
       "      <td>20.686928</td>\n",
       "      <td>20.666473</td>\n",
       "      <td>20.573582</td>\n",
       "      <td>20.579933</td>\n",
       "      <td>20.707083</td>\n",
       "      <td>20.698412</td>\n",
       "      <td>multitarget training</td>\n",
       "    </tr>\n",
       "    <tr>\n",
       "      <th>3</th>\n",
       "      <td>15910</td>\n",
       "      <td>C(#N)c1c(c(c(c(c1Cl)Cl)Cl)C#N)Cl</td>\n",
       "      <td>N#Cc1c(Cl)c(Cl)c(Cl)c(C#N)c1Cl</td>\n",
       "      <td>multitarget</td>\n",
       "      <td>test</td>\n",
       "      <td>24</td>\n",
       "      <td>5</td>\n",
       "      <td>True</td>\n",
       "      <td>16.172943</td>\n",
       "      <td>16.166480</td>\n",
       "      <td>...</td>\n",
       "      <td>14.846571</td>\n",
       "      <td>15.024720</td>\n",
       "      <td>14.982287</td>\n",
       "      <td>14.865892</td>\n",
       "      <td>14.852013</td>\n",
       "      <td>14.901800</td>\n",
       "      <td>14.970851</td>\n",
       "      <td>15.054768</td>\n",
       "      <td>14.919376</td>\n",
       "      <td>multitarget test</td>\n",
       "    </tr>\n",
       "    <tr>\n",
       "      <th>4</th>\n",
       "      <td>219402</td>\n",
       "      <td>C(=O)C(C1C(C(C(=O)O1)O)O)O</td>\n",
       "      <td>O=CC(O)C1OC(=O)C(O)C1O</td>\n",
       "      <td>multitarget</td>\n",
       "      <td>test</td>\n",
       "      <td>100</td>\n",
       "      <td>6</td>\n",
       "      <td>True</td>\n",
       "      <td>28.578636</td>\n",
       "      <td>28.121542</td>\n",
       "      <td>...</td>\n",
       "      <td>26.758510</td>\n",
       "      <td>26.623638</td>\n",
       "      <td>26.574932</td>\n",
       "      <td>26.662964</td>\n",
       "      <td>26.547087</td>\n",
       "      <td>26.294607</td>\n",
       "      <td>26.226974</td>\n",
       "      <td>26.233580</td>\n",
       "      <td>26.405636</td>\n",
       "      <td>multitarget test</td>\n",
       "    </tr>\n",
       "    <tr>\n",
       "      <th>...</th>\n",
       "      <td>...</td>\n",
       "      <td>...</td>\n",
       "      <td>...</td>\n",
       "      <td>...</td>\n",
       "      <td>...</td>\n",
       "      <td>...</td>\n",
       "      <td>...</td>\n",
       "      <td>...</td>\n",
       "      <td>...</td>\n",
       "      <td>...</td>\n",
       "      <td>...</td>\n",
       "      <td>...</td>\n",
       "      <td>...</td>\n",
       "      <td>...</td>\n",
       "      <td>...</td>\n",
       "      <td>...</td>\n",
       "      <td>...</td>\n",
       "      <td>...</td>\n",
       "      <td>...</td>\n",
       "      <td>...</td>\n",
       "      <td>...</td>\n",
       "    </tr>\n",
       "    <tr>\n",
       "      <th>126660</th>\n",
       "      <td>2271648</td>\n",
       "      <td>COc1ccc(cc1OC)C(=O)NCCSCc2ccco2</td>\n",
       "      <td>COc1ccc(C(=O)NCCSCc2ccco2)cc1OC</td>\n",
       "      <td>notarget</td>\n",
       "      <td>test</td>\n",
       "      <td>271</td>\n",
       "      <td>0</td>\n",
       "      <td>True</td>\n",
       "      <td>21.621990</td>\n",
       "      <td>21.261372</td>\n",
       "      <td>...</td>\n",
       "      <td>20.394420</td>\n",
       "      <td>20.464436</td>\n",
       "      <td>20.385246</td>\n",
       "      <td>20.422644</td>\n",
       "      <td>20.343554</td>\n",
       "      <td>20.201818</td>\n",
       "      <td>20.377756</td>\n",
       "      <td>20.376064</td>\n",
       "      <td>20.427292</td>\n",
       "      <td>notarget test</td>\n",
       "    </tr>\n",
       "    <tr>\n",
       "      <th>126661</th>\n",
       "      <td>16015661</td>\n",
       "      <td>COc1ccccc1OCC(=O)NCC2(CCCCC2)N3CCOCC3</td>\n",
       "      <td>COc1ccccc1OCC(=O)NCC1(N2CCOCC2)CCCCC1</td>\n",
       "      <td>notarget</td>\n",
       "      <td>test</td>\n",
       "      <td>36</td>\n",
       "      <td>0</td>\n",
       "      <td>True</td>\n",
       "      <td>20.991210</td>\n",
       "      <td>20.982899</td>\n",
       "      <td>...</td>\n",
       "      <td>24.373564</td>\n",
       "      <td>24.396523</td>\n",
       "      <td>24.438263</td>\n",
       "      <td>24.556833</td>\n",
       "      <td>24.522337</td>\n",
       "      <td>24.390020</td>\n",
       "      <td>24.422657</td>\n",
       "      <td>24.407433</td>\n",
       "      <td>24.354984</td>\n",
       "      <td>notarget test</td>\n",
       "    </tr>\n",
       "    <tr>\n",
       "      <th>126662</th>\n",
       "      <td>6460680</td>\n",
       "      <td>Cc1c(c(=O)n2c(n1)nc([nH]2)NC(=O)c3ccccc3F)Cl</td>\n",
       "      <td>Cc1nc2nc(NC(=O)c3ccccc3F)[nH]n2c(=O)c1Cl</td>\n",
       "      <td>notarget</td>\n",
       "      <td>test</td>\n",
       "      <td>35</td>\n",
       "      <td>0</td>\n",
       "      <td>True</td>\n",
       "      <td>40.816193</td>\n",
       "      <td>38.581573</td>\n",
       "      <td>...</td>\n",
       "      <td>34.832237</td>\n",
       "      <td>34.861350</td>\n",
       "      <td>35.050010</td>\n",
       "      <td>35.229584</td>\n",
       "      <td>35.210610</td>\n",
       "      <td>34.906185</td>\n",
       "      <td>35.122765</td>\n",
       "      <td>35.377747</td>\n",
       "      <td>35.315840</td>\n",
       "      <td>notarget test</td>\n",
       "    </tr>\n",
       "    <tr>\n",
       "      <th>126663</th>\n",
       "      <td>51359661</td>\n",
       "      <td>CCOC(=O)C1CSCCS(=O)(=O)N1Cc2cccc(c2)F</td>\n",
       "      <td>CCOC(=O)C1CSCCS(=O)(=O)N1Cc1cccc(F)c1</td>\n",
       "      <td>notarget</td>\n",
       "      <td>test</td>\n",
       "      <td>30</td>\n",
       "      <td>0</td>\n",
       "      <td>True</td>\n",
       "      <td>25.938965</td>\n",
       "      <td>26.273390</td>\n",
       "      <td>...</td>\n",
       "      <td>31.086374</td>\n",
       "      <td>31.321445</td>\n",
       "      <td>31.371016</td>\n",
       "      <td>31.305890</td>\n",
       "      <td>31.340025</td>\n",
       "      <td>31.437233</td>\n",
       "      <td>31.563883</td>\n",
       "      <td>31.821478</td>\n",
       "      <td>31.634583</td>\n",
       "      <td>notarget test</td>\n",
       "    </tr>\n",
       "    <tr>\n",
       "      <th>126664</th>\n",
       "      <td>7770013</td>\n",
       "      <td>COc1ccc(cc1OC)CC(=O)Nc2ccccc2c3ccccc3</td>\n",
       "      <td>COc1ccc(CC(=O)Nc2ccccc2-c2ccccc2)cc1OC</td>\n",
       "      <td>notarget</td>\n",
       "      <td>test</td>\n",
       "      <td>188</td>\n",
       "      <td>0</td>\n",
       "      <td>True</td>\n",
       "      <td>22.673986</td>\n",
       "      <td>22.499912</td>\n",
       "      <td>...</td>\n",
       "      <td>22.407072</td>\n",
       "      <td>22.727180</td>\n",
       "      <td>23.056517</td>\n",
       "      <td>23.267717</td>\n",
       "      <td>22.903782</td>\n",
       "      <td>22.568031</td>\n",
       "      <td>22.835087</td>\n",
       "      <td>22.813126</td>\n",
       "      <td>22.841808</td>\n",
       "      <td>notarget test</td>\n",
       "    </tr>\n",
       "  </tbody>\n",
       "</table>\n",
       "<p>126665 rows × 210 columns</p>\n",
       "</div>"
      ],
      "text/plain": [
       "            cids                             NostereoAromaticSMILES  \\\n",
       "0        1483729                           C#CCN1c2ccccc2Sc3c1nccc3   \n",
       "1        2803060                           C#CCSc1c(c(sn1)SCC#C)C#N   \n",
       "2       16195846  C#Cc1ccc(cc1)C2CC(OC(=C2)C(=O)N3CCN(CC3)Cc4ccc...   \n",
       "3          15910                   C(#N)c1c(c(c(c(c1Cl)Cl)Cl)C#N)Cl   \n",
       "4         219402                         C(=O)C(C1C(C(C(=O)O1)O)O)O   \n",
       "...          ...                                                ...   \n",
       "126660   2271648                    COc1ccc(cc1OC)C(=O)NCCSCc2ccco2   \n",
       "126661  16015661              COc1ccccc1OCC(=O)NCC2(CCCCC2)N3CCOCC3   \n",
       "126662   6460680       Cc1c(c(=O)n2c(n1)nc([nH]2)NC(=O)c3ccccc3F)Cl   \n",
       "126663  51359661              CCOC(=O)C1CSCCS(=O)(=O)N1Cc2cccc(c2)F   \n",
       "126664   7770013              COc1ccc(cc1OC)CC(=O)Nc2ccccc2c3ccccc3   \n",
       "\n",
       "                                             rdkit_smiles        class  \\\n",
       "0                                C#CCN1c2ccccc2Sc2cccnc21  multitarget   \n",
       "1                                  C#CCSc1nsc(SCC#C)c1C#N  multitarget   \n",
       "2       C#Cc1ccc(C2C=C(C(=O)N3CCN(Cc4ccccc4)CC3)OC(OCC...  multitarget   \n",
       "3                          N#Cc1c(Cl)c(Cl)c(Cl)c(C#N)c1Cl  multitarget   \n",
       "4                                  O=CC(O)C1OC(=O)C(O)C1O  multitarget   \n",
       "...                                                   ...          ...   \n",
       "126660                    COc1ccc(C(=O)NCCSCc2ccco2)cc1OC     notarget   \n",
       "126661              COc1ccccc1OCC(=O)NCC1(N2CCOCC2)CCCCC1     notarget   \n",
       "126662           Cc1nc2nc(NC(=O)c3ccccc3F)[nH]n2c(=O)c1Cl     notarget   \n",
       "126663              CCOC(=O)C1CSCCS(=O)(=O)N1Cc1cccc(F)c1     notarget   \n",
       "126664             COc1ccc(CC(=O)Nc2ccccc2-c2ccccc2)cc1OC     notarget   \n",
       "\n",
       "             set  inactive  active  encodable      NLL_0      NLL_1  ...  \\\n",
       "0       training       174       6       True  21.387634  21.237390  ...   \n",
       "1       training       244       6       True  25.435406  25.543407  ...   \n",
       "2       training       151       6       True  26.490920  26.334568  ...   \n",
       "3           test        24       5       True  16.172943  16.166480  ...   \n",
       "4           test       100       6       True  28.578636  28.121542  ...   \n",
       "...          ...       ...     ...        ...        ...        ...  ...   \n",
       "126660      test       271       0       True  21.621990  21.261372  ...   \n",
       "126661      test        36       0       True  20.991210  20.982899  ...   \n",
       "126662      test        35       0       True  40.816193  38.581573  ...   \n",
       "126663      test        30       0       True  25.938965  26.273390  ...   \n",
       "126664      test       188       0       True  22.673986  22.499912  ...   \n",
       "\n",
       "          NLL_192    NLL_193    NLL_194    NLL_195    NLL_196    NLL_197  \\\n",
       "0       16.529953  16.579832  16.597193  16.598688  16.543293  16.469414   \n",
       "1       16.977541  17.072138  17.067848  17.018055  16.830230  16.742233   \n",
       "2       20.697884  20.671890  20.672901  20.686928  20.666473  20.573582   \n",
       "3       14.846571  15.024720  14.982287  14.865892  14.852013  14.901800   \n",
       "4       26.758510  26.623638  26.574932  26.662964  26.547087  26.294607   \n",
       "...           ...        ...        ...        ...        ...        ...   \n",
       "126660  20.394420  20.464436  20.385246  20.422644  20.343554  20.201818   \n",
       "126661  24.373564  24.396523  24.438263  24.556833  24.522337  24.390020   \n",
       "126662  34.832237  34.861350  35.050010  35.229584  35.210610  34.906185   \n",
       "126663  31.086374  31.321445  31.371016  31.305890  31.340025  31.437233   \n",
       "126664  22.407072  22.727180  23.056517  23.267717  22.903782  22.568031   \n",
       "\n",
       "          NLL_198    NLL_199    NLL_200             class_set  \n",
       "0       16.514149  16.565979  16.504505  multitarget training  \n",
       "1       16.677542  16.708557  16.730461  multitarget training  \n",
       "2       20.579933  20.707083  20.698412  multitarget training  \n",
       "3       14.970851  15.054768  14.919376      multitarget test  \n",
       "4       26.226974  26.233580  26.405636      multitarget test  \n",
       "...           ...        ...        ...                   ...  \n",
       "126660  20.377756  20.376064  20.427292         notarget test  \n",
       "126661  24.422657  24.407433  24.354984         notarget test  \n",
       "126662  35.122765  35.377747  35.315840         notarget test  \n",
       "126663  31.563883  31.821478  31.634583         notarget test  \n",
       "126664  22.835087  22.813126  22.841808         notarget test  \n",
       "\n",
       "[126665 rows x 210 columns]"
      ]
     },
     "execution_count": 8,
     "metadata": {},
     "output_type": "execute_result"
    }
   ],
   "source": [
    "all_data"
   ]
  },
  {
   "cell_type": "code",
   "execution_count": 10,
   "metadata": {},
   "outputs": [],
   "source": [
    "ecfp6 = read_npz(\"output/processed_fp.npz\")"
   ]
  },
  {
   "cell_type": "code",
   "execution_count": 11,
   "metadata": {},
   "outputs": [],
   "source": [
    "def add_epoch_to_list(epoch, mylist):\n",
    "    if epoch not in mylist:\n",
    "        mylist.append(epoch)\n",
    "    return mylist \n",
    "        \n",
    "        \n",
    "epochs = list(range(26))\n",
    "steps = [100,50,25,10,5,2,1]\n",
    "for r in steps:\n",
    "    for i in range(0,201,r):\n",
    "        epochs = add_epoch_to_list(i,epochs)\n"
   ]
  },
  {
   "cell_type": "code",
   "execution_count": 13,
   "metadata": {},
   "outputs": [],
   "source": [
    "import sklearn as sk \n",
    "import sklearn.ensemble\n",
    "from sklearn.model_selection import GridSearchCV"
   ]
  },
  {
   "cell_type": "code",
   "execution_count": 14,
   "metadata": {},
   "outputs": [
    {
     "data": {
      "text/plain": [
       "(array([0, 0, 0, ..., 2, 2, 2]),\n",
       " Index(['multitarget', 'singletarget', 'notarget'], dtype='object'))"
      ]
     },
     "execution_count": 14,
     "metadata": {},
     "output_type": "execute_result"
    }
   ],
   "source": [
    "pd.factorize(all_data[\"class\"])"
   ]
  },
  {
   "cell_type": "code",
   "execution_count": 32,
   "metadata": {},
   "outputs": [],
   "source": [
    "all_data[\"class_label\"] = pd.factorize(all_data[\"class\"])[0]\n",
    "all_data[\"class_label\"] = all_data[\"class_label\"].map(lambda x: 0 if x == 2 else ( 2 if x == 0 else x))\n",
    "all_data[\"class_label_binary\"] = all_data[\"class_label\"].map(lambda x: 0 if x <= 1 else 1 )\n",
    "all_data[\"classification_setname\"] = \"test\"\n",
    "for i in ['multitarget training', 'singletarget test', 'notarget test']:\n",
    "    if i == 'multitarget training':\n",
    "        n = 1000\n",
    "    else:\n",
    "        n = 30000\n",
    "    index = all_data.query(\"`class_set` == @i\").sample(n=n, random_state=1234).index\n",
    "    all_data.loc[index, \"classification_setname\"] = \"training\""
   ]
  },
  {
   "cell_type": "code",
   "execution_count": 33,
   "metadata": {},
   "outputs": [],
   "source": [
    "rf_training_set = all_data.query(\"`classification_setname` == 'training'\").sample(frac=1., random_state=1234).copy()\n",
    "rf_input = ecfp6[rf_training_set.index]\n",
    "rf_labels = rf_training_set[\"class_label_binary\"].to_numpy()"
   ]
  },
  {
   "cell_type": "code",
   "execution_count": 46,
   "metadata": {
    "collapsed": true,
    "jupyter": {
     "outputs_hidden": true
    }
   },
   "outputs": [
    {
     "name": "stderr",
     "output_type": "stream",
     "text": [
      "/usr/local/Caskroom/miniconda/base/envs/reinvent_shared.v2.1/lib/python3.6/site-packages/sklearn/model_selection/_split.py:1978: FutureWarning: The default value of cv will change from 3 to 5 in version 0.22. Specify it explicitly to silence this warning.\n",
      "  warnings.warn(CV_WARNING, FutureWarning)\n",
      "[Parallel(n_jobs=1)]: Using backend SequentialBackend with 1 concurrent workers.\n"
     ]
    },
    {
     "name": "stdout",
     "output_type": "stream",
     "text": [
      "Fitting 3 folds for each of 1 candidates, totalling 3 fits\n",
      "[CV] colsample_bytree=0.7, learning_rate=0.05, max_depth=7, min_child_weight=11, missing=-999, n_estimators=1000, objective=binary:logistic, seed=1234, subsample=0.8 \n",
      "[00:12:43] WARNING: /opt/concourse/worker/volumes/live/7a2b9f41-3287-451b-6691-43e9a6c0910f/volume/xgboost-split_1619728204606/work/src/learner.cc:1061: Starting in XGBoost 1.3.0, the default evaluation metric used with the objective 'binary:logistic' was changed from 'error' to 'logloss'. Explicitly set eval_metric if you'd like to restore the old behavior.\n",
      "[CV]  colsample_bytree=0.7, learning_rate=0.05, max_depth=7, min_child_weight=11, missing=-999, n_estimators=1000, objective=binary:logistic, seed=1234, subsample=0.8, total= 7.8min\n",
      "[CV] colsample_bytree=0.7, learning_rate=0.05, max_depth=7, min_child_weight=11, missing=-999, n_estimators=1000, objective=binary:logistic, seed=1234, subsample=0.8 \n"
     ]
    },
    {
     "name": "stderr",
     "output_type": "stream",
     "text": [
      "[Parallel(n_jobs=1)]: Done   1 out of   1 | elapsed:  7.8min remaining:    0.0s\n"
     ]
    },
    {
     "name": "stdout",
     "output_type": "stream",
     "text": [
      "[00:20:35] WARNING: /opt/concourse/worker/volumes/live/7a2b9f41-3287-451b-6691-43e9a6c0910f/volume/xgboost-split_1619728204606/work/src/learner.cc:1061: Starting in XGBoost 1.3.0, the default evaluation metric used with the objective 'binary:logistic' was changed from 'error' to 'logloss'. Explicitly set eval_metric if you'd like to restore the old behavior.\n",
      "[CV]  colsample_bytree=0.7, learning_rate=0.05, max_depth=7, min_child_weight=11, missing=-999, n_estimators=1000, objective=binary:logistic, seed=1234, subsample=0.8, total= 8.0min\n",
      "[CV] colsample_bytree=0.7, learning_rate=0.05, max_depth=7, min_child_weight=11, missing=-999, n_estimators=1000, objective=binary:logistic, seed=1234, subsample=0.8 \n",
      "[00:28:34] WARNING: /opt/concourse/worker/volumes/live/7a2b9f41-3287-451b-6691-43e9a6c0910f/volume/xgboost-split_1619728204606/work/src/learner.cc:1061: Starting in XGBoost 1.3.0, the default evaluation metric used with the objective 'binary:logistic' was changed from 'error' to 'logloss'. Explicitly set eval_metric if you'd like to restore the old behavior.\n",
      "[CV]  colsample_bytree=0.7, learning_rate=0.05, max_depth=7, min_child_weight=11, missing=-999, n_estimators=1000, objective=binary:logistic, seed=1234, subsample=0.8, total= 8.1min\n"
     ]
    },
    {
     "name": "stderr",
     "output_type": "stream",
     "text": [
      "[Parallel(n_jobs=1)]: Done   3 out of   3 | elapsed: 23.9min finished\n"
     ]
    },
    {
     "name": "stdout",
     "output_type": "stream",
     "text": [
      "[00:36:38] WARNING: /opt/concourse/worker/volumes/live/7a2b9f41-3287-451b-6691-43e9a6c0910f/volume/xgboost-split_1619728204606/work/src/learner.cc:1061: Starting in XGBoost 1.3.0, the default evaluation metric used with the objective 'binary:logistic' was changed from 'error' to 'logloss'. Explicitly set eval_metric if you'd like to restore the old behavior.\n"
     ]
    },
    {
     "data": {
      "text/plain": [
       "GridSearchCV(cv='warn', error_score='raise-deprecating',\n",
       "             estimator=XGBClassifier(base_score=None, booster=None,\n",
       "                                     colsample_bylevel=None,\n",
       "                                     colsample_bynode=None,\n",
       "                                     colsample_bytree=None, gamma=None,\n",
       "                                     gpu_id=None, importance_type='gain',\n",
       "                                     interaction_constraints=None,\n",
       "                                     learning_rate=None, max_delta_step=None,\n",
       "                                     max_depth=None, min_child_weight=None,\n",
       "                                     missing=nan, monotone_con...\n",
       "                                     validate_parameters=None, verbosity=1),\n",
       "             iid='warn', n_jobs=None,\n",
       "             param_grid={'colsample_bytree': [0.7], 'learning_rate': [0.05],\n",
       "                         'max_depth': [7], 'min_child_weight': [11],\n",
       "                         'missing': [-999], 'n_estimators': [1000],\n",
       "                         'objective': ['binary:logistic'], 'seed': [1234],\n",
       "                         'subsample': [0.8]},\n",
       "             pre_dispatch='2*n_jobs', refit=True, return_train_score=False,\n",
       "             scoring='roc_auc', verbose=2)"
      ]
     },
     "execution_count": 46,
     "metadata": {},
     "output_type": "execute_result"
    }
   ],
   "source": [
    "from sklearn.metrics import matthews_corrcoef, make_scorer\n",
    "from sklearn.model_selection import StratifiedKFold\n",
    "\n",
    "from xgboost import  XGBClassifier\n",
    "from sklearn.model_selection import train_test_split\n",
    "\n",
    "xgb_model = XGBClassifier(random_state=1234, verbosity=1, use_label_encoder=False, scale_pos_weight=60000/1000)\n",
    "\n",
    "parameters = {'objective':['binary:logistic'],\n",
    "              'learning_rate': [0.05], #so called `eta` value\n",
    "              'max_depth': [6, 7, 8],\n",
    "              'min_child_weight': [11],\n",
    "              'subsample': [0.8],\n",
    "              'colsample_bytree': [0.7],\n",
    "              'n_estimators': [1000],\n",
    "              'missing':[-999],\n",
    "              'seed': [1234]}\n",
    "\n",
    "clf = GridSearchCV(xgb_model, parameters,\n",
    "                   verbose=2, refit=True, scoring=\"roc_auc\")\n",
    "\n",
    "clf.fit(rf_input, rf_labels)\n"
   ]
  },
  {
   "cell_type": "code",
   "execution_count": 47,
   "metadata": {},
   "outputs": [
    {
     "data": {
      "text/plain": [
       "{'colsample_bytree': 0.7,\n",
       " 'learning_rate': 0.05,\n",
       " 'max_depth': 7,\n",
       " 'min_child_weight': 11,\n",
       " 'missing': -999,\n",
       " 'n_estimators': 1000,\n",
       " 'objective': 'binary:logistic',\n",
       " 'seed': 1234,\n",
       " 'subsample': 0.8}"
      ]
     },
     "execution_count": 47,
     "metadata": {},
     "output_type": "execute_result"
    }
   ],
   "source": [
    "clf.best_params_"
   ]
  },
  {
   "cell_type": "code",
   "execution_count": 48,
   "metadata": {},
   "outputs": [],
   "source": [
    "rf_multitarget_test = all_data.query(\"`classification_setname` == 'test'\").copy()\n",
    "rf_input_test = ecfp6[rf_multitarget_test.index]\n",
    "rf_labels_test = rf_multitarget_test[\"class_label_binary\"].to_numpy()"
   ]
  },
  {
   "cell_type": "code",
   "execution_count": 50,
   "metadata": {},
   "outputs": [],
   "source": [
    "from sklearn import metrics\n",
    "def evaluate(model, input_ecfp6, input_label):\n",
    "    prediction_proba = model.predict_proba(input_ecfp6)\n",
    "    \n",
    "    predictions = np.argmax(prediction_proba, axis=1)\n",
    "    \n",
    "    scores_bin = {\n",
    "        \"f1\": metrics.f1_score,\n",
    "        \"bal.acc\": metrics.balanced_accuracy_score,\n",
    "        \"mcc\": metrics.matthews_corrcoef,\n",
    "        \"precision\": metrics.precision_score,\n",
    "        \"recall\": metrics.recall_score,\n",
    "    }\n",
    "    scores_proba = {\n",
    "        \"roc_auc\": metrics.roc_auc_score\n",
    "    }\n",
    "    \n",
    "    results = {}\n",
    "    \n",
    "    for name, fn in scores_bin.items():\n",
    "        results[name] = fn(input_label, predictions)\n",
    "    \n",
    "    for name, fn in scores_proba.items():\n",
    "        results[name] = fn(input_label, prediction_proba[:,1])\n",
    "    \n",
    "    return results"
   ]
  },
  {
   "cell_type": "code",
   "execution_count": 51,
   "metadata": {},
   "outputs": [],
   "source": [
    "results = evaluate(clf, rf_input_test, rf_labels_test)"
   ]
  },
  {
   "cell_type": "code",
   "execution_count": 52,
   "metadata": {},
   "outputs": [
    {
     "data": {
      "text/plain": [
       "{'f1': 0.32261640798226165,\n",
       " 'bal.acc': 0.6513331015722357,\n",
       " 'mcc': 0.3034824820748351,\n",
       " 'precision': 0.3235130628126737,\n",
       " 'recall': 0.32172470978441126,\n",
       " 'roc_auc': 0.8190286387877421}"
      ]
     },
     "execution_count": 52,
     "metadata": {},
     "output_type": "execute_result"
    }
   ],
   "source": [
    "results"
   ]
  },
  {
   "cell_type": "code",
   "execution_count": 72,
   "metadata": {},
   "outputs": [],
   "source": [
    "prediction_percentage = {}"
   ]
  },
  {
   "cell_type": "code",
   "execution_count": 74,
   "metadata": {},
   "outputs": [
    {
     "data": {
      "application/vnd.jupyter.widget-view+json": {
       "model_id": "957ad0cc4b48414682a9685911aa3fc1",
       "version_major": 2,
       "version_minor": 0
      },
      "text/plain": [
       "HBox(children=(IntProgress(value=0, max=201), HTML(value='')))"
      ]
     },
     "metadata": {},
     "output_type": "display_data"
    },
    {
     "name": "stdout",
     "output_type": "stream",
     "text": [
      "\n"
     ]
    }
   ],
   "source": [
    "import pickle\n",
    "\n",
    "epochs = []\n",
    "steps = [100,50,25,10,5,4,3,2,1]\n",
    "for r in steps:\n",
    "    for i in range(0,201,r):\n",
    "        epochs = add_epoch_to_list(i,epochs)\n",
    "        \n",
    "for epoch in tqdm(epochs):\n",
    "    \n",
    "    if epoch in prediction_percentage:\n",
    "        continue\n",
    "        \n",
    "    if os.path.exists(f\"sampled/{epoch}/predictions.npz\"):\n",
    "        predictions = np.load(f\"sampled/{epoch}/predictions.npz\")[\"predictions\"]\n",
    "    else:\n",
    "        ecfp6_generated = read_npz(f\"sampled/{epoch}/processed_fp.npz\")\n",
    "        predictions = clf.predict(ecfp6_generated)\n",
    "        \n",
    "        np.savez_compressed(f\"sampled/{epoch}/predictions.npz\", predictions=predictions)\n",
    "    \n",
    "    data = pd.read_feather(f\"sampled/{epoch}/processed_with_nn_with_scaffold.feather\")\n",
    "    data[\"prediction\"] = predictions\n",
    "    \n",
    "    data = data.query(\"valid == 1\")\n",
    "    percentage = (len(data.query(\"prediction == 1\"))/len(data))*100\n",
    "\n",
    "    prediction_percentage[epoch] = percentage"
   ]
  },
  {
   "cell_type": "code",
   "execution_count": 79,
   "metadata": {},
   "outputs": [
    {
     "data": {
      "text/plain": [
       "[<matplotlib.lines.Line2D at 0x7ff5fbfc65c0>]"
      ]
     },
     "execution_count": 79,
     "metadata": {},
     "output_type": "execute_result"
    },
    {
     "data": {
      "image/png": "[encoded data removed]",
      "text/plain": [
       "<Figure size 432x288 with 1 Axes>"
      ]
     },
     "metadata": {
      "image/png": {
       "height": 248,
       "width": 368
      },
      "needs_background": "light"
     },
     "output_type": "display_data"
    }
   ],
   "source": [
    "values = sorted(list(prediction_percentage.items()), key= lambda x: x[0])\n",
    "x = [v[0] for v in values]\n",
    "y = [v[1] for v in values]\n",
    "\n",
    "\n",
    "plt.plot(x,y)"
   ]
  },
  {
   "cell_type": "code",
   "execution_count": 80,
   "metadata": {},
   "outputs": [
    {
     "data": {
      "text/plain": [
       "[(0, 2.369800356477224),\n",
       " (1, 3.2712833182489014),\n",
       " (2, 3.873345482202927),\n",
       " (3, 4.530541033608518),\n",
       " (4, 5.112426809187005),\n",
       " (5, 5.4967445423209496),\n",
       " (6, 5.8047070217126135),\n",
       " (7, 6.160315562504471),\n",
       " (8, 6.626789173812463),\n",
       " (9, 6.984725573071902),\n",
       " (10, 7.208274321237513),\n",
       " (11, 7.4510733177606845),\n",
       " (12, 7.743084853177627),\n",
       " (13, 8.004214088790155),\n",
       " (14, 8.318056875427894),\n",
       " (15, 8.524445062234387),\n",
       " (16, 8.777388466368501),\n",
       " (17, 9.097701631120279),\n",
       " (18, 9.194469789934985),\n",
       " (19, 9.29913698597947),\n",
       " (20, 9.517164586961963),\n",
       " (21, 9.77832341249576),\n",
       " (22, 9.986671364882877),\n",
       " (23, 10.23677257465261),\n",
       " (24, 10.345352851632505),\n",
       " (25, 10.579170714249194),\n",
       " (26, 10.565981381828001),\n",
       " (27, 10.835418496616873),\n",
       " (28, 11.055131961810083),\n",
       " (29, 11.30157048899758),\n",
       " (30, 11.46763983598224),\n",
       " (31, 11.563417603666833),\n",
       " (32, 11.785144231408305),\n",
       " (33, 11.953028644883354),\n",
       " (34, 12.232449363380063),\n",
       " (35, 12.459714690028056),\n",
       " (36, 12.478496717395505),\n",
       " (37, 12.431349348668165),\n",
       " (38, 12.657061107704884),\n",
       " (39, 13.045668937253119),\n",
       " (40, 13.276890985500556),\n",
       " (41, 13.289738749336935),\n",
       " (42, 13.243510097448194),\n",
       " (43, 13.483421846285065),\n",
       " (44, 13.784819732016665),\n",
       " (45, 14.017290500450978),\n",
       " (46, 14.063656172453406),\n",
       " (47, 14.121576950470201),\n",
       " (48, 14.221037362933917),\n",
       " (49, 14.291587072389547),\n",
       " (50, 14.340257409674631),\n",
       " (51, 14.740484075391471),\n",
       " (52, 14.838591005242344),\n",
       " (53, 14.998237592909506),\n",
       " (54, 15.001482602427377),\n",
       " (55, 15.300375917539613),\n",
       " (56, 15.266426267698547),\n",
       " (57, 15.400174542746093),\n",
       " (58, 15.45422746249972),\n",
       " (59, 15.392520784121238),\n",
       " (60, 15.746750757296162),\n",
       " (61, 15.84046457892423),\n",
       " (62, 16.070357805746834),\n",
       " (63, 16.25430431095262),\n",
       " (64, 16.328748246858655),\n",
       " (65, 16.318435845613806),\n",
       " (66, 16.510475894398404),\n",
       " (67, 16.59952080566849),\n",
       " (68, 16.63801751262625),\n",
       " (69, 16.76788086208113),\n",
       " (70, 16.779531021505925),\n",
       " (71, 16.766747051559218),\n",
       " (72, 17.039154149259595),\n",
       " (73, 17.297858095642084),\n",
       " (74, 17.27191255110706),\n",
       " (75, 17.393971616702792),\n",
       " (76, 17.380778754291782),\n",
       " (77, 17.35007187546361),\n",
       " (78, 17.5296747435415),\n",
       " (79, 17.79091504690884),\n",
       " (80, 17.80923285741882),\n",
       " (81, 18.103362812322104),\n",
       " (82, 18.2900487111729),\n",
       " (83, 18.381186256307917),\n",
       " (84, 18.400826851829134),\n",
       " (85, 18.411284411454112),\n",
       " (86, 18.799357906012418),\n",
       " (87, 18.898042095659306),\n",
       " (88, 18.853977148306793),\n",
       " (89, 18.820395200768008),\n",
       " (90, 18.975582968514637),\n",
       " (91, 18.98098251225533),\n",
       " (92, 19.15211929272715),\n",
       " (93, 19.298489676300758),\n",
       " (94, 19.36364863814344),\n",
       " (95, 19.470175503213568),\n",
       " (96, 19.50070298320509),\n",
       " (97, 19.354957441913964),\n",
       " (98, 19.4632985187358),\n",
       " (99, 19.82800302165142),\n",
       " (100, 20.224092040868893),\n",
       " (101, 20.161832535308267),\n",
       " (102, 20.046913567628614),\n",
       " (103, 20.088513311764007),\n",
       " (104, 20.243650089354723),\n",
       " (105, 20.142145466622384),\n",
       " (106, 20.253714395511963),\n",
       " (107, 20.314017315928815),\n",
       " (108, 20.42795451641753),\n",
       " (109, 20.656099692804677),\n",
       " (110, 20.81446437370047),\n",
       " (111, 20.608348920616837),\n",
       " (112, 20.493800389099487),\n",
       " (113, 20.787758027200525),\n",
       " (114, 21.151407817024687),\n",
       " (115, 21.502695541776298),\n",
       " (116, 21.19686606600961),\n",
       " (117, 21.235761922378078),\n",
       " (118, 21.32522423530013),\n",
       " (119, 21.326350566923576),\n",
       " (120, 21.389063893502648),\n",
       " (121, 21.531870678484903),\n",
       " (122, 21.725370295571793),\n",
       " (123, 21.791681660560062),\n",
       " (124, 22.03376841537358),\n",
       " (125, 22.13092135520466),\n",
       " (126, 22.22884831176217),\n",
       " (127, 22.088412590725692),\n",
       " (128, 22.19644467529493),\n",
       " (129, 22.265680092389136),\n",
       " (130, 22.317927450120294),\n",
       " (131, 22.434186635296523),\n",
       " (132, 22.74852329480703),\n",
       " (133, 22.60560036997475),\n",
       " (134, 22.627993115374707),\n",
       " (135, 22.666741614373606),\n",
       " (136, 22.393875291262084),\n",
       " (137, 22.684243519379226),\n",
       " (138, 22.92750791515567),\n",
       " (139, 22.930589839566178),\n",
       " (140, 23.036571080450653),\n",
       " (141, 23.204465615861398),\n",
       " (142, 23.174981930008045),\n",
       " (143, 23.221586263287),\n",
       " (144, 23.55822651920712),\n",
       " (145, 23.491514368988216),\n",
       " (146, 23.410184588123123),\n",
       " (147, 23.391689107262984),\n",
       " (148, 23.32501129711305),\n",
       " (149, 23.562568963454357),\n",
       " (150, 23.468402392043977),\n",
       " (151, 23.58600225109997),\n",
       " (152, 23.808316066998152),\n",
       " (153, 23.793115080196632),\n",
       " (154, 23.928465934236655),\n",
       " (155, 24.0886695981916),\n",
       " (156, 24.16388994255018),\n",
       " (157, 24.23632688491303),\n",
       " (158, 24.145087679120593),\n",
       " (159, 24.009165747263005),\n",
       " (160, 24.309179316888045),\n",
       " (161, 24.48386212315285),\n",
       " (162, 24.518869873450864),\n",
       " (163, 24.488804577365762),\n",
       " (164, 24.588489045294583),\n",
       " (165, 24.735568839998322),\n",
       " (166, 24.683185732108893),\n",
       " (167, 24.656978052322607),\n",
       " (168, 24.94744562732275),\n",
       " (169, 25.17760195686832),\n",
       " (170, 25.151611253196933),\n",
       " (171, 25.372265789592102),\n",
       " (172, 25.390732052503918),\n",
       " (173, 25.422235306865552),\n",
       " (174, 25.074036705031837),\n",
       " (175, 25.017147284698083),\n",
       " (176, 25.11827842644447),\n",
       " (177, 25.423768685148534),\n",
       " (178, 25.73486916735797),\n",
       " (179, 25.78410542779663),\n",
       " (180, 25.8274786002645),\n",
       " (181, 25.80221560413667),\n",
       " (182, 25.611960452353067),\n",
       " (183, 25.793311011470898),\n",
       " (184, 25.997900072485326),\n",
       " (185, 25.98729291197117),\n",
       " (186, 25.921918875638355),\n",
       " (187, 25.989613682133694),\n",
       " (188, 26.261661406548182),\n",
       " (189, 26.11924425192148),\n",
       " (190, 26.272994059122468),\n",
       " (191, 26.481751108348195),\n",
       " (192, 26.608300423945835),\n",
       " (193, 26.628502135891356),\n",
       " (194, 26.670364828434636),\n",
       " (195, 26.70618834117423),\n",
       " (196, 26.7063525340391),\n",
       " (197, 26.798634519183288),\n",
       " (198, 26.74336672342471),\n",
       " (199, 26.571455147790125),\n",
       " (200, 26.614298878475267)]"
      ]
     },
     "execution_count": 80,
     "metadata": {},
     "output_type": "execute_result"
    }
   ],
   "source": [
    "values"
   ]
  },
  {
   "cell_type": "code",
   "execution_count": null,
   "metadata": {},
   "outputs": [],
   "source": []
  }
 ],
 "metadata": {
  "kernelspec": {
   "display_name": "Python 3",
   "language": "python",
   "name": "python3"
  },
  "language_info": {
   "codemirror_mode": {
    "name": "ipython",
    "version": 3
   },
   "file_extension": ".py",
   "mimetype": "text/x-python",
   "name": "python",
   "nbconvert_exporter": "python",
   "pygments_lexer": "ipython3",
   "version": "3.6.5"
  },
  "widgets": {
   "application/vnd.jupyter.widget-state+json": {
    "state": {
     "116b025a6b1a4da48cef9c673600e894": {
      "model_module": "@jupyter-widgets/controls",
      "model_module_version": "1.5.0",
      "model_name": "HBoxModel",
      "state": {
       "children": [
        "IPY_MODEL_abd2176fec7f42e58f88e5992ba79154",
        "IPY_MODEL_2588b709cfe1425a8bf70f35f35403a3"
       ],
       "layout": "IPY_MODEL_6d00dc7ab5984b08a678799aa5f0a3a6"
      }
     },
     "12d3686bae744c98b911c370d4413770": {
      "model_module": "@jupyter-widgets/controls",
      "model_module_version": "1.5.0",
      "model_name": "ProgressStyleModel",
      "state": {
       "description_width": "initial"
      }
     },
     "174c081ec5b24c7584eeef1b8e6759ce": {
      "model_module": "@jupyter-widgets/controls",
      "model_module_version": "1.5.0",
      "model_name": "HTMLModel",
      "state": {
       "layout": "IPY_MODEL_49db538f965d4e57a5feff55f65f6067",
       "style": "IPY_MODEL_d05eec6bf80b4399bf6398d992672e82",
       "value": " 201/201 [1:43:49&lt;00:00, 30.99s/it]"
      }
     },
     "1d78fd12fbe349fe8de7e6d8e04aa062": {
      "model_module": "@jupyter-widgets/base",
      "model_module_version": "1.2.0",
      "model_name": "LayoutModel",
      "state": {}
     },
     "2588b709cfe1425a8bf70f35f35403a3": {
      "model_module": "@jupyter-widgets/controls",
      "model_module_version": "1.5.0",
      "model_name": "HTMLModel",
      "state": {
       "layout": "IPY_MODEL_1d78fd12fbe349fe8de7e6d8e04aa062",
       "style": "IPY_MODEL_77e0a91fb67a4bbe9b5f73681f4b1096",
       "value": " 10/10 [05:46&lt;00:00, 34.61s/it]"
      }
     },
     "27b870bcd71647f4a65508b6a045654c": {
      "model_module": "@jupyter-widgets/base",
      "model_module_version": "1.2.0",
      "model_name": "LayoutModel",
      "state": {}
     },
     "2c8fa9c5e5cf4c318572f0e3b05b6f41": {
      "model_module": "@jupyter-widgets/controls",
      "model_module_version": "1.5.0",
      "model_name": "HBoxModel",
      "state": {
       "children": [
        "IPY_MODEL_c9bd3ec4e5994103a3ba16bb9119a7d5",
        "IPY_MODEL_f77d52c991384078a5c590a1d2840632"
       ],
       "layout": "IPY_MODEL_33cdf3ae5a194284b7a608086b7f9ab9"
      }
     },
     "33cdf3ae5a194284b7a608086b7f9ab9": {
      "model_module": "@jupyter-widgets/base",
      "model_module_version": "1.2.0",
      "model_name": "LayoutModel",
      "state": {}
     },
     "3b8d1294cbd34ef3a2d7154164e43d8b": {
      "model_module": "@jupyter-widgets/controls",
      "model_module_version": "1.5.0",
      "model_name": "ProgressStyleModel",
      "state": {
       "description_width": "initial"
      }
     },
     "402268737a964646911da95fd7ccb9b1": {
      "model_module": "@jupyter-widgets/controls",
      "model_module_version": "1.5.0",
      "model_name": "DescriptionStyleModel",
      "state": {
       "description_width": ""
      }
     },
     "49db538f965d4e57a5feff55f65f6067": {
      "model_module": "@jupyter-widgets/base",
      "model_module_version": "1.2.0",
      "model_name": "LayoutModel",
      "state": {}
     },
     "51ae57f4134e4146881618b3205e56e6": {
      "model_module": "@jupyter-widgets/base",
      "model_module_version": "1.2.0",
      "model_name": "LayoutModel",
      "state": {}
     },
     "53434cfc0c1e48ce95ff42b923710104": {
      "model_module": "@jupyter-widgets/base",
      "model_module_version": "1.2.0",
      "model_name": "LayoutModel",
      "state": {}
     },
     "63f88d9317e843f1b2f28d136820dbea": {
      "model_module": "@jupyter-widgets/controls",
      "model_module_version": "1.5.0",
      "model_name": "IntProgressModel",
      "state": {
       "bar_style": "danger",
       "description": "  0%",
       "layout": "IPY_MODEL_b4cdc36d61d2414c9e27af6d32668a1a",
       "max": 201,
       "style": "IPY_MODEL_bdefe479575945a4997cb74ac293b228"
      }
     },
     "65995b63d1934af48ebf1f570246f992": {
      "model_module": "@jupyter-widgets/controls",
      "model_module_version": "1.5.0",
      "model_name": "HTMLModel",
      "state": {
       "layout": "IPY_MODEL_27b870bcd71647f4a65508b6a045654c",
       "style": "IPY_MODEL_402268737a964646911da95fd7ccb9b1",
       "value": " 10/10 [15:11&lt;00:00, 91.12s/it]"
      }
     },
     "6d00dc7ab5984b08a678799aa5f0a3a6": {
      "model_module": "@jupyter-widgets/base",
      "model_module_version": "1.2.0",
      "model_name": "LayoutModel",
      "state": {}
     },
     "6fef1966f703424a9fd83a706a34d5c5": {
      "model_module": "@jupyter-widgets/base",
      "model_module_version": "1.2.0",
      "model_name": "LayoutModel",
      "state": {}
     },
     "7397016a18a048d5969d88be8dad306e": {
      "model_module": "@jupyter-widgets/controls",
      "model_module_version": "1.5.0",
      "model_name": "DescriptionStyleModel",
      "state": {
       "description_width": ""
      }
     },
     "752221ec092b48ce90e107934fcc38b8": {
      "model_module": "@jupyter-widgets/base",
      "model_module_version": "1.2.0",
      "model_name": "LayoutModel",
      "state": {}
     },
     "779f1872ab044e2f84f00bd9db6fb9d3": {
      "model_module": "@jupyter-widgets/controls",
      "model_module_version": "1.5.0",
      "model_name": "DescriptionStyleModel",
      "state": {
       "description_width": ""
      }
     },
     "77e0a91fb67a4bbe9b5f73681f4b1096": {
      "model_module": "@jupyter-widgets/controls",
      "model_module_version": "1.5.0",
      "model_name": "DescriptionStyleModel",
      "state": {
       "description_width": ""
      }
     },
     "7a90e8ea9aa44166b9146ca4c95f77b6": {
      "model_module": "@jupyter-widgets/base",
      "model_module_version": "1.2.0",
      "model_name": "LayoutModel",
      "state": {}
     },
     "857fcc1e4e93452290c394cd4039c02e": {
      "model_module": "@jupyter-widgets/controls",
      "model_module_version": "1.5.0",
      "model_name": "HBoxModel",
      "state": {
       "children": [
        "IPY_MODEL_d13ab9357208480c9a3ed99fa9ef533b",
        "IPY_MODEL_65995b63d1934af48ebf1f570246f992"
       ],
       "layout": "IPY_MODEL_53434cfc0c1e48ce95ff42b923710104"
      }
     },
     "957ad0cc4b48414682a9685911aa3fc1": {
      "model_module": "@jupyter-widgets/controls",
      "model_module_version": "1.5.0",
      "model_name": "HBoxModel",
      "state": {
       "children": [
        "IPY_MODEL_ce4e2e652fe94b598bf2be346a15b429",
        "IPY_MODEL_174c081ec5b24c7584eeef1b8e6759ce"
       ],
       "layout": "IPY_MODEL_c644794026af45bfafd53330a686c44d"
      }
     },
     "a4f5ffc763f5433183fec354546b8ebf": {
      "model_module": "@jupyter-widgets/controls",
      "model_module_version": "1.5.0",
      "model_name": "ProgressStyleModel",
      "state": {
       "description_width": "initial"
      }
     },
     "abd2176fec7f42e58f88e5992ba79154": {
      "model_module": "@jupyter-widgets/controls",
      "model_module_version": "1.5.0",
      "model_name": "IntProgressModel",
      "state": {
       "bar_style": "success",
       "description": "100%",
       "layout": "IPY_MODEL_d98b3e77a3f24d19880b0a21a20d3866",
       "max": 10,
       "style": "IPY_MODEL_e0c2421076b1437494e5a5d7b370775d",
       "value": 10
      }
     },
     "b4cdc36d61d2414c9e27af6d32668a1a": {
      "model_module": "@jupyter-widgets/base",
      "model_module_version": "1.2.0",
      "model_name": "LayoutModel",
      "state": {}
     },
     "bdefe479575945a4997cb74ac293b228": {
      "model_module": "@jupyter-widgets/controls",
      "model_module_version": "1.5.0",
      "model_name": "ProgressStyleModel",
      "state": {
       "description_width": "initial"
      }
     },
     "c644794026af45bfafd53330a686c44d": {
      "model_module": "@jupyter-widgets/base",
      "model_module_version": "1.2.0",
      "model_name": "LayoutModel",
      "state": {}
     },
     "c6ddac0981d94ddeaded42bb30fb318e": {
      "model_module": "@jupyter-widgets/controls",
      "model_module_version": "1.5.0",
      "model_name": "HBoxModel",
      "state": {
       "children": [
        "IPY_MODEL_63f88d9317e843f1b2f28d136820dbea",
        "IPY_MODEL_ff7d65c5c0f345a884c467e73b60e063"
       ],
       "layout": "IPY_MODEL_6fef1966f703424a9fd83a706a34d5c5"
      }
     },
     "c9bd3ec4e5994103a3ba16bb9119a7d5": {
      "model_module": "@jupyter-widgets/controls",
      "model_module_version": "1.5.0",
      "model_name": "IntProgressModel",
      "state": {
       "bar_style": "success",
       "description": "100%",
       "layout": "IPY_MODEL_7a90e8ea9aa44166b9146ca4c95f77b6",
       "max": 201,
       "style": "IPY_MODEL_a4f5ffc763f5433183fec354546b8ebf",
       "value": 201
      }
     },
     "ce4e2e652fe94b598bf2be346a15b429": {
      "model_module": "@jupyter-widgets/controls",
      "model_module_version": "1.5.0",
      "model_name": "IntProgressModel",
      "state": {
       "bar_style": "success",
       "description": "100%",
       "layout": "IPY_MODEL_db84803fef5c433c8eebd54e6ed281cd",
       "max": 201,
       "style": "IPY_MODEL_3b8d1294cbd34ef3a2d7154164e43d8b",
       "value": 201
      }
     },
     "d05eec6bf80b4399bf6398d992672e82": {
      "model_module": "@jupyter-widgets/controls",
      "model_module_version": "1.5.0",
      "model_name": "DescriptionStyleModel",
      "state": {
       "description_width": ""
      }
     },
     "d13ab9357208480c9a3ed99fa9ef533b": {
      "model_module": "@jupyter-widgets/controls",
      "model_module_version": "1.5.0",
      "model_name": "IntProgressModel",
      "state": {
       "bar_style": "success",
       "description": "100%",
       "layout": "IPY_MODEL_e0fa2bd651834cceb9f0bae62f897777",
       "max": 10,
       "style": "IPY_MODEL_12d3686bae744c98b911c370d4413770",
       "value": 10
      }
     },
     "d98b3e77a3f24d19880b0a21a20d3866": {
      "model_module": "@jupyter-widgets/base",
      "model_module_version": "1.2.0",
      "model_name": "LayoutModel",
      "state": {}
     },
     "db84803fef5c433c8eebd54e6ed281cd": {
      "model_module": "@jupyter-widgets/base",
      "model_module_version": "1.2.0",
      "model_name": "LayoutModel",
      "state": {}
     },
     "e0c2421076b1437494e5a5d7b370775d": {
      "model_module": "@jupyter-widgets/controls",
      "model_module_version": "1.5.0",
      "model_name": "ProgressStyleModel",
      "state": {
       "description_width": "initial"
      }
     },
     "e0fa2bd651834cceb9f0bae62f897777": {
      "model_module": "@jupyter-widgets/base",
      "model_module_version": "1.2.0",
      "model_name": "LayoutModel",
      "state": {}
     },
     "f77d52c991384078a5c590a1d2840632": {
      "model_module": "@jupyter-widgets/controls",
      "model_module_version": "1.5.0",
      "model_name": "HTMLModel",
      "state": {
       "layout": "IPY_MODEL_51ae57f4134e4146881618b3205e56e6",
       "style": "IPY_MODEL_7397016a18a048d5969d88be8dad306e",
       "value": " 201/201 [00:00&lt;00:00, 3385.85it/s]"
      }
     },
     "ff7d65c5c0f345a884c467e73b60e063": {
      "model_module": "@jupyter-widgets/controls",
      "model_module_version": "1.5.0",
      "model_name": "HTMLModel",
      "state": {
       "layout": "IPY_MODEL_752221ec092b48ce90e107934fcc38b8",
       "style": "IPY_MODEL_779f1872ab044e2f84f00bd9db6fb9d3",
       "value": " 0/201 [00:00&lt;?, ?it/s]"
      }
     }
    },
    "version_major": 2,
    "version_minor": 0
   }
  }
 },
 "nbformat": 4,
 "nbformat_minor": 4
}
