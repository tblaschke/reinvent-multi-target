{
 "cells": [
  {
   "cell_type": "code",
   "execution_count": 1,
   "metadata": {},
   "outputs": [],
   "source": [
    "import sys\n",
    "sys.path.append(\"reinvent/\")"
   ]
  },
  {
   "cell_type": "code",
   "execution_count": 2,
   "metadata": {},
   "outputs": [],
   "source": [
    "#import os\n",
    "#os.environ['CUDA_LAUNCH_BLOCKING'] = \"1\""
   ]
  },
  {
   "cell_type": "code",
   "execution_count": 3,
   "metadata": {},
   "outputs": [],
   "source": [
    "# load dependencies\n",
    "import os\n",
    "import re\n",
    "import json\n",
    "import tempfile\n",
    "\n",
    "\n",
    "# --------- do not change\n",
    "# get the notebook's root path\n",
    "try: ipynb_path\n",
    "except NameError: ipynb_path = os.getcwd()\n",
    "\n",
    "# --------- change these path variables as required\n",
    "reinvent_dir = ipynb_path + \"/reinvent\"\n",
    "reinvent_env = os.path.expanduser(\"~/miniconda3/envs/reinvent_shared.v2.1\")\n",
    "output_dir = ipynb_path + \"/sampled\"\n",
    "\n",
    "\n",
    "# if required, generate a folder to store the results\n",
    "try:\n",
    "    os.mkdir(output_dir)\n",
    "except FileExistsError:\n",
    "    pass\n"
   ]
  },
  {
   "cell_type": "code",
   "execution_count": 4,
   "metadata": {},
   "outputs": [],
   "source": [
    "for EPOCH in range(0,201):\n",
    "    # initialize the dictionary\n",
    "    configuration = {\n",
    "        \"seed\": 1234567890,\n",
    "        \"version\": 2,                          # we are going to use REINVENT's newest release\n",
    "        \"run_type\": \"sampling\"                 # other run types: \"scoring\", \"validation\",\n",
    "                                               #                  \"transfer_learning\",\n",
    "                                               #                  \"reinforcement_learning\" and\n",
    "                                               #                  \"create_model\"\n",
    "    }\n",
    "    configuration[\"logging\"] = None\n",
    "    \n",
    "    #{\n",
    "    #    \"sender\": \"http://127.0.0.1\",          # only relevant if \"recipient\" is set to \"remote\"\n",
    "    #    \"recipient\": \"local\",                  # either to local logging or use a remote REST-interface\n",
    "    #    \"logging_path\": \"/dev/null\", # where the run's output is stored\n",
    "    #    \"job_name\": f\"Sampling {EPOCH} Epoch\",       # set an arbitrary job name for identification\n",
    "    #    \"job_id\": f\"sampling{EPOCH}\"                       # only relevant if \"recipient\" is set to \"remote\"\n",
    "    #}\n",
    "\n",
    "    # set up the file path, where the generated molecules are\n",
    "    # deposited (as SMILES)\n",
    "    output_SMILES_path = os.path.join(output_dir, f\"{EPOCH}\", f\"sampled.smi\")\n",
    "\n",
    "    # add the \"parameters\" block\n",
    "    configuration[\"parameters\"] = {\n",
    "        \"model_path\": os.path.join(ipynb_path,\n",
    "                                   \"output\",\n",
    "                                   f\"focused.agent.{EPOCH}\"),\n",
    "        \"output_smiles_path\": output_SMILES_path,       # output path where SMILES will be deposited\n",
    "        \"num_smiles\": 1000000,                             # specifies, how many molecules are to be sampled\n",
    "        \"batch_size\": 1000,                              # internal batch size; should match the one used\n",
    "                                                        # during training\n",
    "        \"with_likelihood\": True                        # also provide the log-likelihood\n",
    "    }\n",
    "    if EPOCH == 0:\n",
    "        configuration[\"parameters\"][\"model_path\"] = os.path.join(ipynb_path,\n",
    "                                                                 \"reinvent\",\"data\",\n",
    "                                                                 f\"augmented.prior\")\n",
    "    elif EPOCH == 200:\n",
    "        configuration[\"parameters\"][\"model_path\"] = os.path.join(ipynb_path,\n",
    "                                                                 \"output\",\n",
    "                                                                 f\"focused.agent\")\n",
    "    \n",
    "    # write the configuration file to the disc\n",
    "    configuration_JSON_path = os.path.join(output_dir, f\"sampling_config.{EPOCH}.json\")\n",
    "    with open(configuration_JSON_path, 'w') as f:\n",
    "        json.dump(configuration, f, indent=4, sort_keys=True)"
   ]
  },
  {
   "cell_type": "code",
   "execution_count": 1,
   "metadata": {},
   "outputs": [
    {
     "name": "stdout",
     "output_type": "stream",
     "text": [
      "Execute '06a_create_sampling_jobs.sh' create a jobs file. Execute all jobs in the file on a cluster or locally to sample all compounds.\n"
     ]
    }
   ],
   "source": [
    "print(\"Execute '06a_create_sampling_jobs.sh' create a jobs file. Execute all jobs in the file on a cluster or locally to sample all compounds.\")"
   ]
  },
  {
   "cell_type": "code",
   "execution_count": 2,
   "metadata": {},
   "outputs": [
    {
     "name": "stdout",
     "output_type": "stream",
     "text": [
      "After the compounds are sampled, process all generated SMILES using the 07a_process_sampled_compounds.py script. It simply tyakes the epoch as an argument and can be easily submitted to your cluster unsing array jobs. Have a look at  08_process_sampled_compounds.ipynb for more details.\n"
     ]
    }
   ],
   "source": [
    "print(\"After the compounds are sampled, process all generated SMILES using the 07a_process_sampled_compounds.py script. It simply tyakes the epoch as an argument and can be easily submitted to your cluster unsing array jobs. Have a look at  08_process_sampled_compounds.ipynb for more details.\")"
   ]
  },
  {
   "cell_type": "code",
   "execution_count": null,
   "metadata": {},
   "outputs": [],
   "source": []
  }
 ],
 "metadata": {
  "kernelspec": {
   "display_name": "Python 3",
   "language": "python",
   "name": "python3"
  },
  "language_info": {
   "codemirror_mode": {
    "name": "ipython",
    "version": 3
   },
   "file_extension": ".py",
   "mimetype": "text/x-python",
   "name": "python",
   "nbconvert_exporter": "python",
   "pygments_lexer": "ipython3",
   "version": "3.6.5"
  },
  "widgets": {
   "application/vnd.jupyter.widget-state+json": {
    "state": {},
    "version_major": 2,
    "version_minor": 0
   }
  }
 },
 "nbformat": 4,
 "nbformat_minor": 4
}
